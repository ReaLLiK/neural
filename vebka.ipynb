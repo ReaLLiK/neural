{
 "cells": [
  {
   "cell_type": "code",
   "execution_count": 2,
   "id": "72a3d606",
   "metadata": {},
   "outputs": [],
   "source": [
    "import cv2\n",
    "import os\n",
    "from pathlib import Path\n",
    "import shutil"
   ]
  },
  {
   "cell_type": "code",
   "execution_count": 8,
   "id": "39d7085c",
   "metadata": {},
   "outputs": [],
   "source": [
    "folder = Path('data/11')\n",
    "for item in folder.iterdir():\n",
    "    if item.is_file() or item.is_symlink():\n",
    "        item.unlink()\n",
    "    elif item.is_dir():\n",
    "        shutil.rmtree(item)\n",
    "os.makedirs(folder, exist_ok=True)\n",
    "frame_count = 0\n",
    "save_interval = 10\n"
   ]
  },
  {
   "cell_type": "code",
   "execution_count": 9,
   "id": "cdec78b1",
   "metadata": {},
   "outputs": [],
   "source": [
    "cap = cv2.VideoCapture(0)\n",
    "while True:\n",
    "    ret, frame = cap.read()\n",
    "    if not ret:\n",
    "        break\n",
    "    frame = cv2.flip(frame, 1)\n",
    "    cv2.imshow(\"Webcam\", frame)\n",
    "    if cv2.waitKey(1) & 0xFF == ord('q'):\n",
    "        break\n",
    "    if frame_count % save_interval == 0:\n",
    "        resized_frame = cv2.resize(frame, (224,224))\n",
    "        filename = os.path.join(folder, f\"frame_{frame_count:04d}.jpg\")\n",
    "        cv2.imwrite(filename, resized_frame)\n",
    "    frame_count += 1\n",
    "cap.release()\n",
    "cv2.destroyAllWindows()\n"
   ]
  }
 ],
 "metadata": {
  "kernelspec": {
   "display_name": ".venv",
   "language": "python",
   "name": "python3"
  },
  "language_info": {
   "codemirror_mode": {
    "name": "ipython",
    "version": 3
   },
   "file_extension": ".py",
   "mimetype": "text/x-python",
   "name": "python",
   "nbconvert_exporter": "python",
   "pygments_lexer": "ipython3",
   "version": "3.13.7"
  }
 },
 "nbformat": 4,
 "nbformat_minor": 5
}
