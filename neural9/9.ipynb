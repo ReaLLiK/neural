{
 "cells": [
  {
   "cell_type": "code",
   "execution_count": null,
   "id": "33e8afc5",
   "metadata": {},
   "outputs": [],
   "source": [
    "from keras.preprocessing import image\n",
    "from keras.applications.vgg16 import VGG16, preprocess_input\n",
    "import matplotlib.pyplot as plt\n",
    "import numpy as np\n",
    "from keras.models import Model, model_from_json\n",
    "from keras.layers import Dense, GlobalAveragePooling2D, Input, Rescaling\n",
    "from keras.utils import image_dataset_from_directory\n",
    "import os\n",
    "import shutil\n",
    "from tqdm import tqdm\n"
   ]
  },
  {
   "cell_type": "code",
   "execution_count": 1,
   "id": "13d525cb",
   "metadata": {},
   "outputs": [],
   "source": [
    "img_width, img_height = 224, 224\n",
    "epochs = 1\n",
    "batch_size = 64"
   ]
  },
  {
   "cell_type": "code",
   "execution_count": 3,
   "id": "ec15c2fc",
   "metadata": {},
   "outputs": [],
   "source": [
    "inputs = Input(shape=(img_width, img_height, 3))\n",
    "x = Rescaling(1./255)(inputs) \n",
    "base_model = VGG16(weights='imagenet', include_top=False, input_tensor=x)\n",
    "\n",
    "x = base_model.output\n",
    "x = GlobalAveragePooling2D()(x)\n",
    "x = Dense(1024, activation='relu')(x)\n",
    "predictions = Dense(2, activation='softmax')(x)\n",
    "\n",
    "model = Model(inputs=inputs, outputs=predictions)\n",
    "\n",
    "for layer in base_model.layers:\n",
    "    layer.trainable = False\n",
    "\n",
    "model.compile(optimizer='rmsprop', loss='categorical_crossentropy', metrics=['accuracy'])"
   ]
  },
  {
   "cell_type": "code",
   "execution_count": 4,
   "id": "633a8edd",
   "metadata": {},
   "outputs": [
    {
     "name": "stderr",
     "output_type": "stream",
     "text": [
      "100%|██████████| 25000/25000 [05:42<00:00, 73.02it/s]\n"
     ]
    }
   ],
   "source": [
    "\n",
    "src_dir = 'train'\n",
    "base_dir = 'train_sorted'\n",
    "\n",
    "cats_dir = os.path.join(base_dir, 'cats')\n",
    "dogs_dir = os.path.join(base_dir, 'dogs')\n",
    "\n",
    "os.makedirs(cats_dir, exist_ok=True)\n",
    "os.makedirs(dogs_dir, exist_ok=True)\n",
    "\n",
    "for filename in tqdm(os.listdir(src_dir)):\n",
    "    if filename.startswith('cat'):\n",
    "        shutil.copy(os.path.join(src_dir, filename), cats_dir)\n",
    "    elif filename.startswith('dog'):\n",
    "        shutil.copy(os.path.join(src_dir, filename), dogs_dir)\n"
   ]
  },
  {
   "cell_type": "code",
   "execution_count": 5,
   "id": "b5523357",
   "metadata": {},
   "outputs": [
    {
     "name": "stdout",
     "output_type": "stream",
     "text": [
      "Found 25000 files belonging to 2 classes.\n",
      "Using 22500 files for training.\n",
      "Found 25000 files belonging to 2 classes.\n",
      "Using 2500 files for validation.\n"
     ]
    }
   ],
   "source": [
    "train_dataset = image_dataset_from_directory(\n",
    "    'train_sorted',\n",
    "    image_size=(img_width, img_height),\n",
    "    batch_size=batch_size,\n",
    "    validation_split=0.1,\n",
    "    subset='training',\n",
    "    seed=42,\n",
    "    label_mode=\"categorical\"\n",
    ")\n",
    "\n",
    "validation_dataset = image_dataset_from_directory(\n",
    "    'train_sorted',\n",
    "    image_size=(img_width, img_height),\n",
    "    batch_size=batch_size,\n",
    "    validation_split=0.1,\n",
    "    subset='validation',\n",
    "    seed=42,\n",
    "    label_mode=\"categorical\"\n",
    ")"
   ]
  },
  {
   "cell_type": "code",
   "execution_count": 6,
   "id": "dfc22a50",
   "metadata": {},
   "outputs": [
    {
     "name": "stdout",
     "output_type": "stream",
     "text": [
      "\u001b[1m352/352\u001b[0m \u001b[32m━━━━━━━━━━━━━━━━━━━━\u001b[0m\u001b[37m\u001b[0m \u001b[1m2025s\u001b[0m 6s/step - accuracy: 0.8328 - loss: 0.3583 - val_accuracy: 0.8860 - val_loss: 0.2693\n"
     ]
    },
    {
     "data": {
      "text/plain": [
       "<keras.src.callbacks.history.History at 0x1adad13f4d0>"
      ]
     },
     "execution_count": 6,
     "metadata": {},
     "output_type": "execute_result"
    }
   ],
   "source": [
    "model.fit(\n",
    "    train_dataset,\n",
    "    epochs=epochs,\n",
    "    validation_data=validation_dataset,\n",
    "    verbose=1\n",
    ")"
   ]
  },
  {
   "cell_type": "code",
   "execution_count": 7,
   "id": "dcfe0b2a",
   "metadata": {},
   "outputs": [
    {
     "name": "stdout",
     "output_type": "stream",
     "text": [
      "\u001b[1m40/40\u001b[0m \u001b[32m━━━━━━━━━━━━━━━━━━━━\u001b[0m\u001b[37m\u001b[0m \u001b[1m187s\u001b[0m 5s/step - accuracy: 0.8860 - loss: 0.2693\n",
      "Validation loss: 0.2693\n",
      "Validation accuracy: 0.8860\n"
     ]
    }
   ],
   "source": [
    "loss, accuracy = model.evaluate(validation_dataset)\n",
    "print(f\"Validation loss: {loss:.4f}\")\n",
    "print(f\"Validation accuracy: {accuracy:.4f}\")"
   ]
  },
  {
   "cell_type": "code",
   "execution_count": 8,
   "id": "dd37ed3b",
   "metadata": {},
   "outputs": [],
   "source": [
    "classes = ['кот', 'собака']"
   ]
  },
  {
   "cell_type": "code",
   "execution_count": 10,
   "id": "4b99ecfa",
   "metadata": {},
   "outputs": [],
   "source": [
    "model_json = model.to_json()\n",
    "json_file = open(\"vgg16_cat_dogs.json\", \"w\")\n",
    "json_file.write(model_json)\n",
    "json_file.close()\n",
    "model.save_weights(\"vgg16_cat_dogs.weights.h5\")\n",
    "json_file = open(\"vgg16_cat_dogs.json\", \"r\")\n",
    "loaded_model_json = json_file.read()\n",
    "json_file.close()\n",
    "loaded_model = model_from_json(loaded_model_json)\n",
    "loaded_model.load_weights(\"vgg16_cat_dogs.weights.h5\")\n",
    "loaded_model.compile(loss=\"categorical_crossentropy\", optimizer=\"SGD\", metrics=[\"accuracy\"])"
   ]
  },
  {
   "cell_type": "code",
   "execution_count": 11,
   "id": "123d8b8d",
   "metadata": {},
   "outputs": [
    {
     "name": "stdout",
     "output_type": "stream",
     "text": [
      "\u001b[1m1/1\u001b[0m \u001b[32m━━━━━━━━━━━━━━━━━━━━\u001b[0m\u001b[37m\u001b[0m \u001b[1m0s\u001b[0m 457ms/step\n",
      "[[0.94499266 0.05500734]]\n",
      "кот\n"
     ]
    }
   ],
   "source": [
    "img = image.load_img('tester.jpg', target_size=(224, 224))\n",
    "x = image.img_to_array(img)\n",
    "x = np.expand_dims(x, axis=0)\n",
    "x = preprocess_input(x)\n",
    "prediction = loaded_model.predict(x)\n",
    "print(prediction)\n",
    "print(classes[np.argmax(prediction)])"
   ]
  }
 ],
 "metadata": {
  "kernelspec": {
   "display_name": ".venv",
   "language": "python",
   "name": "python3"
  },
  "language_info": {
   "codemirror_mode": {
    "name": "ipython",
    "version": 3
   },
   "file_extension": ".py",
   "mimetype": "text/x-python",
   "name": "python",
   "nbconvert_exporter": "python",
   "pygments_lexer": "ipython3",
   "version": "3.13.7"
  }
 },
 "nbformat": 4,
 "nbformat_minor": 5
}
