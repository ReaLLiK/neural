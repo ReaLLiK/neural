{
 "cells": [
  {
   "cell_type": "code",
   "execution_count": 11,
   "id": "939a02e8",
   "metadata": {},
   "outputs": [],
   "source": [
    "import numpy as np\n",
    "import math"
   ]
  },
  {
   "cell_type": "code",
   "execution_count": 7,
   "id": "b9ea33f6",
   "metadata": {},
   "outputs": [
    {
     "name": "stdout",
     "output_type": "stream",
     "text": [
      "(1, [2, 3, 4])\n"
     ]
    }
   ],
   "source": [
    "a=(1,[2,3])\n",
    "a[1].append(4)\n",
    "print(a)"
   ]
  },
  {
   "cell_type": "code",
   "execution_count": 16,
   "id": "9e98c385",
   "metadata": {},
   "outputs": [
    {
     "name": "stdout",
     "output_type": "stream",
     "text": [
      "(1, [2, 3], [4, 5, 6])\n"
     ]
    }
   ],
   "source": [
    "a=(1,[2,3])\n",
    "b=([4,5,6],)\n",
    "a+=b\n",
    "print(a)"
   ]
  },
  {
   "cell_type": "code",
   "execution_count": 17,
   "id": "f3422535",
   "metadata": {},
   "outputs": [
    {
     "name": "stdout",
     "output_type": "stream",
     "text": [
      "(1, [2, 3], 'str')\n"
     ]
    }
   ],
   "source": [
    "a=(1,[2,3])\n",
    "b=('str',)\n",
    "a+=b\n",
    "print(a)"
   ]
  },
  {
   "cell_type": "code",
   "execution_count": 15,
   "id": "a0c3baf8",
   "metadata": {},
   "outputs": [
    {
     "name": "stdout",
     "output_type": "stream",
     "text": [
      "(1, [2, 3, 2, 3])\n"
     ]
    }
   ],
   "source": [
    "a=(1,[2,3])\n",
    "b=a[1]\n",
    "a[1].append(b[0])\n",
    "a[1].append(b[1])\n",
    "print(a)"
   ]
  },
  {
   "cell_type": "code",
   "execution_count": 19,
   "id": "4523f99a",
   "metadata": {},
   "outputs": [
    {
     "name": "stdout",
     "output_type": "stream",
     "text": [
      "2\n"
     ]
    }
   ],
   "source": [
    "a=np.array([1,2,3])\n",
    "b=np.array([2,3,4])\n",
    "print(len(np.intersect1d(a,b)))"
   ]
  },
  {
   "cell_type": "code",
   "execution_count": 11,
   "id": "a5dd58c0",
   "metadata": {},
   "outputs": [
    {
     "name": "stdout",
     "output_type": "stream",
     "text": [
      "1 NO 2 NO 3 NO 4 NO 5 NO 6 NO 12 NO 1 YES 2 YES 3 YES 4 YES \n"
     ]
    }
   ],
   "source": [
    "data='1 2 3 4 5 6 12 1 2 3 4'\n",
    "data=data.split()\n",
    "new=''\n",
    "a=dict()\n",
    "for i in range(len(data)):\n",
    "    if(a.get(data[i])==None):\n",
    "        a[data[i]]='NO'\n",
    "        new+=data[i]+' '+a[data[i]]+' '\n",
    "    else:\n",
    "        b={data[i]:'YES'}\n",
    "        a.update(b)\n",
    "        new+=data[i]+' '+a[data[i]]+' '\n",
    "print(new)"
   ]
  },
  {
   "cell_type": "code",
   "execution_count": 17,
   "id": "ad17b58a",
   "metadata": {},
   "outputs": [
    {
     "name": "stdout",
     "output_type": "stream",
     "text": [
      "2 [4 5]\n",
      "3 [1 2 3]\n",
      "4 [6 7 8 9]\n"
     ]
    }
   ],
   "source": [
    "a=np.array([1,2,3,4,5])\n",
    "b=np.array([4,5,6,7,8,9])\n",
    "c=np.intersect1d(a,b)\n",
    "d=np.setdiff1d(a,b)\n",
    "e=np.setdiff1d(b,c)\n",
    "\n",
    "\n",
    "print(len(c), np.sort(c))\n",
    "print(len(d), np.sort(d))\n",
    "print(len(e), np.sort(e))"
   ]
  },
  {
   "cell_type": "code",
   "execution_count": 49,
   "id": "5ff42151",
   "metadata": {},
   "outputs": [
    {
     "name": "stdout",
     "output_type": "stream",
     "text": [
      "['1' '2']\n"
     ]
    }
   ],
   "source": [
    "n=6\n",
    "f='1 2 3 Yes'\n",
    "s='3 4 5 No'\n",
    "t='1 2 6 Yes'\n",
    "data=np.array([f,s,t])\n",
    "ans=np.array([f.split()[-1], s.split()[-1], t.split()[-1]])\n",
    "buff=np.array(range(1,n+1))\n",
    "\n",
    "for i in range(3):\n",
    "    if(ans[i]=='Yes'):\n",
    "        buff=np.intersect1d(buff,data[i].split())\n",
    "    else:\n",
    "        buff=buff[~np.isin(buff, data[i].split())]\n",
    "print(np.sort(buff))"
   ]
  },
  {
   "cell_type": "code",
   "execution_count": 52,
   "id": "a9cd76cd",
   "metadata": {},
   "outputs": [
    {
     "name": "stdout",
     "output_type": "stream",
     "text": [
      "1 0 2 0 3 0 4 0 5 0 6 0 12 0 1 1 2 1 3 1 4 1 \n"
     ]
    }
   ],
   "source": [
    "data='1 2 3 4 5 6 12 1 2 3 4'\n",
    "data=data.split()\n",
    "new=''\n",
    "a=dict.fromkeys(data, 0)\n",
    "for i in range(len(data)):\n",
    "    new+=data[i]+' '+str(a[data[i]])+' '\n",
    "    b={data[i]:a[data[i]]+1}\n",
    "    a.update(b)\n",
    "print(new)"
   ]
  },
  {
   "cell_type": "code",
   "execution_count": 63,
   "id": "403e96c1",
   "metadata": {},
   "outputs": [
    {
     "name": "stdout",
     "output_type": "stream",
     "text": [
      "b\n"
     ]
    }
   ],
   "source": [
    "first=dict(a='aa',b='bb',c='cc')\n",
    "second={value: key for key,value in first.items()}\n",
    "search='bb'\n",
    "if(first.get(search)!=None):\n",
    "    print(first[search])\n",
    "else:\n",
    "    print(second[search])\n",
    "    "
   ]
  },
  {
   "cell_type": "code",
   "execution_count": 92,
   "id": "5d6b1708",
   "metadata": {},
   "outputs": [
    {
     "name": "stdout",
     "output_type": "stream",
     "text": [
      "2\n"
     ]
    }
   ],
   "source": [
    "data1 = '1 2 3 4 5 6 12 1 2 3 4'\n",
    "data2 = '2 3 1 2 3 '\n",
    "data = data1 + ' ' + data2\n",
    "data = data.split()\n",
    "\n",
    "a = dict.fromkeys(data, 0)\n",
    "\n",
    "for word in data:\n",
    "    a[word] += 1\n",
    "\n",
    "max_count = max(a.values())\n",
    "\n",
    "candidates = [word for word, cnt in a.items() if cnt == max_count]\n",
    "\n",
    "answer = min(candidates)\n",
    "\n",
    "print(answer)\n"
   ]
  },
  {
   "cell_type": "code",
   "execution_count": null,
   "id": "893060d7",
   "metadata": {},
   "outputs": [
    {
     "name": "stdout",
     "output_type": "stream",
     "text": [
      "3\n",
      "2\n",
      "1\n",
      "12\n",
      "4\n",
      "6\n",
      "5\n"
     ]
    }
   ],
   "source": [
    "data1 = '1 2 3 4 5 6 6 12 12 12 1 2 3 4'\n",
    "data2 = '2 3 1 2 3 3'\n",
    "data = data1 + ' ' + data2\n",
    "words = data.split()\n",
    "\n",
    "counts = {}\n",
    "for w in words:\n",
    "    counts[w] = counts.get(w, 0) + 1\n",
    "sorted_words = sorted(counts.items(), key=lambda x: (-x[1], x[0]))\n",
    "for word, _ in sorted_words:\n",
    "    print(word)\n"
   ]
  },
  {
   "cell_type": "code",
   "execution_count": 58,
   "id": "002b0c9e",
   "metadata": {},
   "outputs": [
    {
     "name": "stdout",
     "output_type": "stream",
     "text": [
      "1.4142135623730951\n"
     ]
    }
   ],
   "source": [
    "ans\n",
    "try:\n",
    "    file=open(\"data.txt\", 'r')\n",
    "    try:\n",
    "        x1=int(file.readline())\n",
    "        y1=int(file.readline())\n",
    "        x2=int(file.readline())\n",
    "        y2=int(file.readline())\n",
    "        ans=math.sqrt((x2-x1)**2+(y1-y2)**2)\n",
    "    except ValueError:\n",
    "        ans=0 \n",
    "    print(ans)\n",
    "except FileNotFoundError:\n",
    "    print(\"нет файла\")\n",
    "    ans=0"
   ]
  },
  {
   "cell_type": "code",
   "execution_count": 8,
   "id": "430cc314",
   "metadata": {},
   "outputs": [
    {
     "name": "stdout",
     "output_type": "stream",
     "text": [
      "0.19753086419753085 0.19753086419753085\n"
     ]
    }
   ],
   "source": [
    "a=1.5\n",
    "n=-4\n",
    "b=a\n",
    "if(n<=0):\n",
    "    b=1/a\n",
    "a=1\n",
    "for i in range(abs(n)): \n",
    "    a*=b\n",
    "print(a, 1.5**-4)"
   ]
  },
  {
   "cell_type": "code",
   "execution_count": 24,
   "id": "e1c90edd",
   "metadata": {},
   "outputs": [
    {
     "name": "stdout",
     "output_type": "stream",
     "text": [
      "Sun Moon \n"
     ]
    }
   ],
   "source": [
    "a='sun moon'\n",
    "b=''\n",
    "def capitalize(word):\n",
    "    word=chr(ord(word[0])-32)+word[1:]\n",
    "    return word\n",
    "for words in a.split():\n",
    "    words=capitalize(words)\n",
    "    b+=words+' '\n",
    "print(b)"
   ]
  },
  {
   "cell_type": "code",
   "execution_count": 59,
   "id": "ca12bfcb",
   "metadata": {},
   "outputs": [
    {
     "name": "stdout",
     "output_type": "stream",
     "text": [
      "100\n"
     ]
    }
   ],
   "source": [
    "def maxim(*args):\n",
    "    arr=np.array(args)\n",
    "    arr.sort()\n",
    "    print(arr[len(arr)-1])\n",
    "maxim(1,2,100,4)"
   ]
  },
  {
   "cell_type": "code",
   "execution_count": null,
   "id": "b47f26ce",
   "metadata": {},
   "outputs": [
    {
     "name": "stdout",
     "output_type": "stream",
     "text": [
      "Andrasovich\n",
      "Brehova\n",
      "Gorunchik\n",
      "Koktish\n",
      "Kosinec\n",
      "Lobanov\n",
      "Mironova\n",
      "Popov\n",
      "Srogovich\n",
      "Tarhanov\n",
      "Yadahalvis\n"
     ]
    }
   ],
   "source": [
    "file=open(\"surnames.txt\", 'r')\n",
    "a=file.read()\n",
    "print(a)\n",
    "file.close()"
   ]
  },
  {
   "cell_type": "code",
   "execution_count": 1,
   "id": "3f4a9c87",
   "metadata": {},
   "outputs": [
    {
     "name": "stdout",
     "output_type": "stream",
     "text": [
      "1 Andrasovich\n",
      "\n",
      "2 Brehova\n",
      "\n",
      "3 Gorunchik\n",
      "\n",
      "4 Koktish\n",
      "\n",
      "5 Kosinec\n",
      "\n",
      "6 Lobanov\n",
      "\n",
      "7 Mironova\n",
      "\n",
      "8 Popov\n",
      "\n",
      "9 Srogovich\n",
      "\n",
      "10 Tarhanov\n",
      "\n",
      "11 Yadahalvis\n"
     ]
    }
   ],
   "source": [
    "file=open(\"surnames.txt\", 'r')\n",
    "for i in range(11):\n",
    "    a=file.readline()\n",
    "    print(i+1, a)\n",
    "file.close()"
   ]
  },
  {
   "cell_type": "code",
   "execution_count": 8,
   "id": "82b4c1a9",
   "metadata": {},
   "outputs": [
    {
     "name": "stdout",
     "output_type": "stream",
     "text": [
      "Andrasovich Anna\n",
      "Brehova Tatiana\n",
      "Gorunchik Nikita\n",
      "Koktish Anton\n",
      "Kosinec Violeta\n",
      "Lobanov Artem\n",
      "Mironova Kseniya\n",
      "Popov Mihail\n",
      "Srogovich Alexander\n",
      "Tarhanov Iliya\n",
      "Yadahalvis Vovanchik\n"
     ]
    }
   ],
   "source": [
    "file=open(\"names.txt\", 'r')\n",
    "a=file.read()\n",
    "print(a)\n",
    "file.close()"
   ]
  },
  {
   "cell_type": "code",
   "execution_count": 9,
   "id": "0b191b9b",
   "metadata": {},
   "outputs": [
    {
     "name": "stdout",
     "output_type": "stream",
     "text": [
      "Andrasovich A\n",
      "Brehova T\n",
      "Gorunchik N\n",
      "Koktish A\n",
      "Kosinec V\n",
      "Lobanov A\n",
      "Mironova K\n",
      "Popov M\n",
      "Srogovich A\n",
      "Tarhanov I\n",
      "Yadahalvis V\n"
     ]
    }
   ],
   "source": [
    "file=open(\"names.txt\", 'r')\n",
    "for i in range(11):\n",
    "    a=file.readline()\n",
    "    print(a.split()[0], a.split()[1][0])\n",
    "file.close()"
   ]
  },
  {
   "cell_type": "code",
   "execution_count": 12,
   "id": "3d9c966d",
   "metadata": {},
   "outputs": [
    {
     "data": {
      "text/plain": [
       "3.9068905956085187"
      ]
     },
     "execution_count": 12,
     "metadata": {},
     "output_type": "execute_result"
    }
   ],
   "source": [
    "math.log2(15)"
   ]
  },
  {
   "cell_type": "code",
   "execution_count": 22,
   "id": "484dfb20",
   "metadata": {},
   "outputs": [],
   "source": [
    "import random"
   ]
  },
  {
   "cell_type": "code",
   "execution_count": null,
   "id": "b071e8e3",
   "metadata": {},
   "outputs": [
    {
     "name": "stdout",
     "output_type": "stream",
     "text": [
      "0.8032189818740278\n",
      "0.8032189818740278\n",
      "0.8032189818740278\n",
      "0.8032189818740278\n"
     ]
    }
   ],
   "source": [
    "a = random.random()\n",
    "for i in range(4):\n",
    "    print(a)"
   ]
  },
  {
   "cell_type": "code",
   "execution_count": 32,
   "id": "3da00a6e",
   "metadata": {},
   "outputs": [],
   "source": [
    "import sys"
   ]
  },
  {
   "cell_type": "code",
   "execution_count": 33,
   "id": "4d053b50",
   "metadata": {},
   "outputs": [
    {
     "data": {
      "text/plain": [
       "['__breakpointhook__',\n",
       " '__displayhook__',\n",
       " '__doc__',\n",
       " '__excepthook__',\n",
       " '__interactivehook__',\n",
       " '__loader__',\n",
       " '__name__',\n",
       " '__package__',\n",
       " '__spec__',\n",
       " '__stderr__',\n",
       " '__stdin__',\n",
       " '__stdout__',\n",
       " '__unraisablehook__',\n",
       " '_base_executable',\n",
       " '_baserepl',\n",
       " '_clear_internal_caches',\n",
       " '_clear_type_cache',\n",
       " '_current_exceptions',\n",
       " '_current_frames',\n",
       " '_debugmallocstats',\n",
       " '_enablelegacywindowsfsencoding',\n",
       " '_framework',\n",
       " '_get_cpu_count_config',\n",
       " '_getframe',\n",
       " '_getframemodulename',\n",
       " '_git',\n",
       " '_home',\n",
       " '_is_gil_enabled',\n",
       " '_is_interned',\n",
       " '_setprofileallthreads',\n",
       " '_settraceallthreads',\n",
       " '_stdlib_dir',\n",
       " '_vpath',\n",
       " '_xoptions',\n",
       " 'activate_stack_trampoline',\n",
       " 'addaudithook',\n",
       " 'api_version',\n",
       " 'argv',\n",
       " 'audit',\n",
       " 'base_exec_prefix',\n",
       " 'base_prefix',\n",
       " 'breakpointhook',\n",
       " 'builtin_module_names',\n",
       " 'byteorder',\n",
       " 'call_tracing',\n",
       " 'copyright',\n",
       " 'deactivate_stack_trampoline',\n",
       " 'displayhook',\n",
       " 'dllhandle',\n",
       " 'dont_write_bytecode',\n",
       " 'exc_info',\n",
       " 'excepthook',\n",
       " 'exception',\n",
       " 'exec_prefix',\n",
       " 'executable',\n",
       " 'exit',\n",
       " 'flags',\n",
       " 'float_info',\n",
       " 'float_repr_style',\n",
       " 'get_asyncgen_hooks',\n",
       " 'get_coroutine_origin_tracking_depth',\n",
       " 'get_int_max_str_digits',\n",
       " 'getallocatedblocks',\n",
       " 'getdefaultencoding',\n",
       " 'getfilesystemencodeerrors',\n",
       " 'getfilesystemencoding',\n",
       " 'getprofile',\n",
       " 'getrecursionlimit',\n",
       " 'getrefcount',\n",
       " 'getsizeof',\n",
       " 'getswitchinterval',\n",
       " 'gettrace',\n",
       " 'getunicodeinternedsize',\n",
       " 'getwindowsversion',\n",
       " 'hash_info',\n",
       " 'hexversion',\n",
       " 'implementation',\n",
       " 'int_info',\n",
       " 'intern',\n",
       " 'is_finalizing',\n",
       " 'is_stack_trampoline_active',\n",
       " 'last_exc',\n",
       " 'last_traceback',\n",
       " 'last_type',\n",
       " 'last_value',\n",
       " 'maxsize',\n",
       " 'maxunicode',\n",
       " 'meta_path',\n",
       " 'modules',\n",
       " 'monitoring',\n",
       " 'orig_argv',\n",
       " 'path',\n",
       " 'path_hooks',\n",
       " 'path_importer_cache',\n",
       " 'platform',\n",
       " 'platlibdir',\n",
       " 'prefix',\n",
       " 'ps1',\n",
       " 'ps2',\n",
       " 'ps3',\n",
       " 'pycache_prefix',\n",
       " 'set_asyncgen_hooks',\n",
       " 'set_coroutine_origin_tracking_depth',\n",
       " 'set_int_max_str_digits',\n",
       " 'setprofile',\n",
       " 'setrecursionlimit',\n",
       " 'setswitchinterval',\n",
       " 'settrace',\n",
       " 'stderr',\n",
       " 'stdin',\n",
       " 'stdlib_module_names',\n",
       " 'stdout',\n",
       " 'thread_info',\n",
       " 'unraisablehook',\n",
       " 'version',\n",
       " 'version_info',\n",
       " 'warnoptions',\n",
       " 'winver']"
      ]
     },
     "execution_count": 33,
     "metadata": {},
     "output_type": "execute_result"
    }
   ],
   "source": [
    "dir(sys)"
   ]
  },
  {
   "cell_type": "code",
   "execution_count": 34,
   "id": "3e34696b",
   "metadata": {},
   "outputs": [
    {
     "name": "stdout",
     "output_type": "stream",
     "text": [
      "aboba\n"
     ]
    }
   ],
   "source": [
    "import aboba\n",
    "aboba.aboba()"
   ]
  },
  {
   "cell_type": "code",
   "execution_count": 8,
   "id": "3170daca",
   "metadata": {},
   "outputs": [],
   "source": [
    "import numpy as np"
   ]
  },
  {
   "cell_type": "code",
   "execution_count": 19,
   "id": "466ca317",
   "metadata": {},
   "outputs": [
    {
     "name": "stdout",
     "output_type": "stream",
     "text": [
      "-22\n"
     ]
    }
   ],
   "source": [
    "a=str(input())\n",
    "print(eval(a))\n"
   ]
  }
 ],
 "metadata": {
  "kernelspec": {
   "display_name": ".venv",
   "language": "python",
   "name": "python3"
  },
  "language_info": {
   "codemirror_mode": {
    "name": "ipython",
    "version": 3
   },
   "file_extension": ".py",
   "mimetype": "text/x-python",
   "name": "python",
   "nbconvert_exporter": "python",
   "pygments_lexer": "ipython3",
   "version": "3.13.7"
  }
 },
 "nbformat": 4,
 "nbformat_minor": 5
}
