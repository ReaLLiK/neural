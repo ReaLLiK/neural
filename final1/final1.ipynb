{
 "cells": [
  {
   "cell_type": "code",
   "execution_count": 2,
   "id": "1dfb3e32",
   "metadata": {},
   "outputs": [],
   "source": [
    "import cv2\n",
    "from datetime import datetime\n",
    "import random\n"
   ]
  },
  {
   "cell_type": "code",
   "execution_count": 3,
   "id": "2e12b7b9",
   "metadata": {},
   "outputs": [],
   "source": [
    "\n",
    "cascade_path = cv2.data.haarcascades + \"haarcascade_frontalface_default.xml\"\n",
    "face_cascade = cv2.CascadeClassifier(cascade_path)"
   ]
  },
  {
   "cell_type": "code",
   "execution_count": 4,
   "id": "b7ac5ec2",
   "metadata": {},
   "outputs": [],
   "source": [
    "font = cv2.FONT_HERSHEY_SIMPLEX\n",
    "font_scale = 1\n",
    "thickness = 2\n",
    "line_type = cv2.LINE_AA"
   ]
  },
  {
   "cell_type": "code",
   "execution_count": 5,
   "id": "da540de1",
   "metadata": {},
   "outputs": [],
   "source": [
    "file=\"output.txt\"\n",
    "open(file, \"w\").close()\n",
    "frame_count=0\n"
   ]
  },
  {
   "cell_type": "code",
   "execution_count": 9,
   "id": "61b6b17c",
   "metadata": {},
   "outputs": [],
   "source": [
    "cap = cv2.VideoCapture(0)\n",
    "flag=0\n",
    "while True:\n",
    "    ret, frame = cap.read()\n",
    "    if not ret:\n",
    "        break\n",
    "    frame_count+=1\n",
    "    frame = cv2.flip(frame, 1)\n",
    "    shape=frame.shape\n",
    "    roi_x, roi_y, roi_w, roi_h = 5, 5, 630, 470\n",
    "    gray = cv2.cvtColor(frame, cv2.COLOR_BGR2GRAY)\n",
    "    roi_gray = gray[roi_y:roi_y + roi_h, roi_x:roi_x + roi_w]\n",
    "    roi_color = frame[roi_y:roi_y + roi_h, roi_x:roi_x + roi_w]\n",
    "    faces = face_cascade.detectMultiScale(roi_gray,scaleFactor=1.1,minNeighbors=10,minSize=(30, 30),\n",
    "                                          flags=cv2.CASCADE_SCALE_IMAGE)\n",
    "    cv2.rectangle(frame, (roi_x, roi_y), (roi_x + roi_w, roi_y + roi_h), (0, 0, 255), 2)\n",
    "    for (x, y, w, h) in faces:\n",
    "        cv2.rectangle(roi_color, (x, y), (x + w, y + h), (0, 255, 0), 2)\n",
    "    if (flag==1 and target<len(faces)):\n",
    "        cv2.rectangle(roi_color, (faces[target][0], faces[target][1]),\n",
    "                     (faces[target][0]+faces[target][2], faces[target][1]+faces[target][3]),\n",
    "                     (255,0,0),2)\n",
    "    text = f\"Faces: {len(faces)}\"\n",
    "    x_text = 10\n",
    "    y_text = frame.shape[0] - 10\n",
    "    cv2.putText(frame, text, (x_text, y_text), font, font_scale, (255, 255, 255), thickness, line_type)\n",
    "    if frame_count % 25 == 0:\n",
    "        now = datetime.now().strftime(\"%Y-%m-%d %H:%M:%S\")\n",
    "        with open(file, \"a\", encoding=\"utf-8\") as f:\n",
    "            f.write(f\"{now} | Faces: {len(faces)}\\n\")\n",
    "    cv2.imshow(\"Face count (press q to quit)\", frame)\n",
    "    key = cv2.waitKey(1) & 0xFF\n",
    "    if key == ord('q'):\n",
    "        break\n",
    "    if key == ord('r'):\n",
    "        target=random.randrange(0,len(faces))\n",
    "        flag=1\n",
    "\n",
    "cap.release()\n",
    "cv2.destroyAllWindows()\n"
   ]
  }
 ],
 "metadata": {
  "kernelspec": {
   "display_name": ".venv",
   "language": "python",
   "name": "python3"
  },
  "language_info": {
   "codemirror_mode": {
    "name": "ipython",
    "version": 3
   },
   "file_extension": ".py",
   "mimetype": "text/x-python",
   "name": "python",
   "nbconvert_exporter": "python",
   "pygments_lexer": "ipython3",
   "version": "3.13.7"
  }
 },
 "nbformat": 4,
 "nbformat_minor": 5
}
