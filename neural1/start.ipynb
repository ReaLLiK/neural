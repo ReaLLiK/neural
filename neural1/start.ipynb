{
 "cells": [
  {
   "cell_type": "code",
   "execution_count": 3,
   "id": "b0c41348",
   "metadata": {},
   "outputs": [],
   "source": [
    "import tensorflow as tf\n",
    "import numpy as np"
   ]
  },
  {
   "cell_type": "code",
   "execution_count": 191,
   "id": "82035b06",
   "metadata": {},
   "outputs": [
    {
     "name": "stdout",
     "output_type": "stream",
     "text": [
      "[1 1 0 0]\n"
     ]
    }
   ],
   "source": [
    "Input=np.array([[1,0], [0,1], [0,0], [1,1]])\n",
    "w1=0.45\n",
    "w2=0.78\n",
    "w3=-12\n",
    "w4=1.3\n",
    "w5=1.5\n",
    "w6=-2.3\n",
    "w11=1\n",
    "w12=1\n",
    "w21=1\n",
    "target=Input[:,0]^Input[:,1]\n",
    "print(target)\n"
   ]
  },
  {
   "cell_type": "code",
   "execution_count": 192,
   "id": "5bc0043b",
   "metadata": {},
   "outputs": [],
   "source": [
    "H1in=Input[:,0]*w1+Input[:,1]*w3+w11\n",
    "H2in=Input[:,0]*w2+Input[:,1]*w4+w11"
   ]
  },
  {
   "cell_type": "code",
   "execution_count": 193,
   "id": "6f99e5f2",
   "metadata": {},
   "outputs": [],
   "source": [
    "H2out=tf.nn.sigmoid(H2in).numpy()\n",
    "H1out=tf.nn.sigmoid(H1in).numpy()"
   ]
  },
  {
   "cell_type": "code",
   "execution_count": 194,
   "id": "8a053ee7",
   "metadata": {},
   "outputs": [],
   "source": [
    "O1in=H2out*w6+H1out*w5+w21\n",
    "O1out=tf.nn.sigmoid(O1in).numpy()"
   ]
  },
  {
   "cell_type": "code",
   "execution_count": 151,
   "id": "3f703a25",
   "metadata": {},
   "outputs": [
    {
     "name": "stdout",
     "output_type": "stream",
     "text": [
      "0.26489880975898755\n"
     ]
    }
   ],
   "source": [
    "Error=0\n",
    "for i in range(4):\n",
    "    Error=Error+((target[i]-O1out[i])**2)\n",
    "Error/=4\n",
    "print(Error)"
   ]
  },
  {
   "cell_type": "code",
   "execution_count": 203,
   "id": "a172831c",
   "metadata": {},
   "outputs": [
    {
     "name": "stdout",
     "output_type": "stream",
     "text": [
      "2.3063350734282904e-05\n",
      "[0.99551223 0.99445709 0.0050915  0.00393269] 7.275944927675544 6.5536638016181605 -12.008488203836578 -6.703855586179291 11.639540227603742 -11.568664677760939 -3.568202100418174 3.4238684454629023 5.6091973224438565\n"
     ]
    }
   ],
   "source": [
    "for j in range(500000):\n",
    "    for i in range(4):\n",
    "        err=target[i]-O1out[i]\n",
    "        delta_out = err * O1out[i] * (1 - O1out[i])\n",
    "        h1Err=delta_out*w5*H1out[i]*(1-H1out[i])\n",
    "        h2Err=delta_out*w6*H2out[i]*(1-H2out[i])\n",
    "        w5+=0.1*delta_out*H1out[i]\n",
    "        w6+=0.1*delta_out*H2out[i]\n",
    "        w21+=0.1*delta_out\n",
    "        w1+=0.1*h1Err*Input[i,0]\n",
    "        w2+=0.1*h2Err*Input[i,0]  \n",
    "        w3+=0.1*h1Err*Input[i,1]\n",
    "        w4+=0.1*h2Err*Input[i,1]\n",
    "        w11+=0.1*h1Err\n",
    "        w12+=0.1*h2Err\n",
    "        H1in[i]=Input[i,0]*w1+Input[i,1]*w3+w11\n",
    "        H2in[i]=Input[i,0]*w2+Input[i,1]*w4+w12\n",
    "        H2out[i]=tf.nn.sigmoid(H2in[i]).numpy()\n",
    "        H1out[i]=tf.nn.sigmoid(H1in[i]).numpy()      \n",
    "        O1in[i]=H2out[i]*w6+H1out[i]*w5+w21\n",
    "        O1out[i]=tf.nn.sigmoid(O1in[i]).numpy()\n",
    "newError=0\n",
    "for j in range(4):\n",
    "    newError=newError+((target[j]-O1out[j])**2)\n",
    "newError/=4\n",
    "print(newError)\n",
    "print(O1out, w1,w2,w3,w4,w5,w6,w11,w12,w21)\n",
    "    "
   ]
  },
  {
   "cell_type": "code",
   "execution_count": 11,
   "id": "ae9e01b0",
   "metadata": {},
   "outputs": [
    {
     "data": {
      "image/png": "[encoded data removed]",
      "text/plain": [
       "<Figure size 1500x500 with 3 Axes>"
      ]
     },
     "metadata": {},
     "output_type": "display_data"
    }
   ],
   "source": [
    "import matplotlib.pyplot as plt\n",
    "\n",
    "points = {\n",
    "    \"A\": (1, 5),\n",
    "    \"B\": (7, 4),\n",
    "    \"C\": (5, 2),\n",
    "    \"D\": (7, 5),\n",
    "    \"E\": (4, 7),\n",
    "}\n",
    "\n",
    "C1_0 = (1, 5)\n",
    "C2_0 = (7, 4)\n",
    "\n",
    "#C: C1:sqrt((5-1)**2+(2-5)**2)=5\n",
    "#C: C2:sqrt((5-7)**2+(2-4)**2)=2.83 !\n",
    "#D: C1:sqrt((7-1)**2+(5-5)**2)=6\n",
    "#D: C2:sqrt((7-7)**2+(5-4)**2)=1 !\n",
    "#E: C1:sqrt((4-1)**2+(7-5)**2)=sqrt13 !\n",
    "#E: C2:sqrt((4-7)**2+(7-4)**2)=3sqrt2\n",
    "\n",
    "cluster1_iter1 = [(1, 5), (4, 7)]\n",
    "cluster2_iter1 = [(7, 4), (5, 2), (7, 5)]\n",
    "#C1=A\n",
    "#C2=B\n",
    "C1_1 = ((1+4)/2, (5+7)/2)\n",
    "C2_1 = ((7+5+7)/3, (4+2+5)/3)\n",
    "\n",
    "#A: C1:sqrt((2.5-1)**2+(6-5)**2)=1.8 !\n",
    "#A: C2:sqrt((2.5-7)**2+(6-4)**2)=5.52\n",
    "#B: C1:sqrt((7-2.5)**2+(6-4)**2)=4.72\n",
    "#B: C2:sqrt((7-6.33)**2+(3.67-4)**2)=0.75 !\n",
    "#C: C1:sqrt((5-2.5)**2+(2-6)**2)=4.72\n",
    "#C: C2:sqrt((5-6.33)**2+(2-3.67)**2)=2.08 !\n",
    "#D: C1:sqrt((7-2.5)**2+(5-6)**2)=4.61\n",
    "#D: C2:sqrt((6.33-7)**2+(5-3.67)**2)=1.37 !\n",
    "#E: C1:sqrt((4-2.5)**2+(7-6)**2)=1.8 !\n",
    "#E: C2:sqrt((4-6.33)**2+(7-3.67)**2)=4.06\n",
    "\n",
    "cluster1_iter2 = cluster1_iter1\n",
    "cluster2_iter2 = cluster2_iter1\n",
    "\n",
    "C1_2 = C1_1\n",
    "C2_2 = C2_1\n",
    "\n",
    "fig, axes = plt.subplots(1, 3, figsize=(15, 5))\n",
    "\n",
    "axes[0].scatter(*zip(*points.values()), color=\"black\")\n",
    "for name, (x, y) in points.items():\n",
    "    axes[0].text(x+0.1, y+0.1, name)\n",
    "axes[0].set_title(\"Исходные точки\")\n",
    "\n",
    "axes[1].scatter(*zip(*cluster1_iter1), color=\"green\")\n",
    "axes[1].scatter(*zip(*cluster2_iter1), color=\"red\")\n",
    "axes[1].scatter(*C1_1, color=\"green\", marker=\"X\", s=200)\n",
    "axes[1].scatter(*C2_1, color=\"red\", marker=\"X\", s=200)\n",
    "axes[1].set_title(\"1\")\n",
    "\n",
    "axes[2].scatter(*zip(*cluster1_iter2), color=\"green\")\n",
    "axes[2].scatter(*zip(*cluster2_iter2), color=\"red\")\n",
    "axes[2].scatter(*C1_2, color=\"green\", marker=\"X\", s=200)\n",
    "axes[2].scatter(*C2_2, color=\"red\", marker=\"X\", s=200)\n",
    "axes[2].set_title(2)\n",
    "\n",
    "plt.show()\n"
   ]
  }
 ],
 "metadata": {
  "kernelspec": {
   "display_name": ".venv",
   "language": "python",
   "name": "python3"
  },
  "language_info": {
   "codemirror_mode": {
    "name": "ipython",
    "version": 3
   },
   "file_extension": ".py",
   "mimetype": "text/x-python",
   "name": "python",
   "nbconvert_exporter": "python",
   "pygments_lexer": "ipython3",
   "version": "3.13.7"
  }
 },
 "nbformat": 4,
 "nbformat_minor": 5
}
