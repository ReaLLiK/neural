{
 "cells": [
  {
   "cell_type": "code",
   "execution_count": 1,
   "id": "57c9e897",
   "metadata": {},
   "outputs": [],
   "source": [
    "import numpy as np\n",
    "import pandas as pd\n",
    "import math"
   ]
  },
  {
   "cell_type": "code",
   "execution_count": 2,
   "id": "f080171f",
   "metadata": {},
   "outputs": [],
   "source": [
    "def nonlin(x, deriv=False):\n",
    "    if (deriv == True):\n",
    "        return (x * (1 - x))\n",
    "\n",
    "    return 1 / (1 + np.exp(-x))"
   ]
  },
  {
   "cell_type": "code",
   "execution_count": 3,
   "id": "6038aa28",
   "metadata": {},
   "outputs": [],
   "source": [
    "X = np.array([[1, 0, 1, 0, 1, 0, 1, 0,1],\n",
    "              [1, 0, 1, 0, 1, 0, 0, 1,0],\n",
    "              [0, 1, 0, 0, 1, 0, 0, 1,0],\n",
    "              [1, 0, 0, 1, 0, 0, 1, 1,1]])\n",
    "y = np.array([[1, 0, 0,0],\n",
    "              [0, 1, 0,0],\n",
    "              [0, 0, 1,0],\n",
    "              [0, 0, 0,1]])"
   ]
  },
  {
   "cell_type": "code",
   "execution_count": 4,
   "id": "7cb8e878",
   "metadata": {},
   "outputs": [
    {
     "name": "stdout",
     "output_type": "stream",
     "text": [
      "Error:0.5192722781255478\n",
      "Error:0.0064627428716605515\n",
      "Error:0.004544337316563828\n",
      "Error:0.0037007938478160482\n",
      "Error:0.00319983868906278\n",
      "Error:0.0028587986591784168\n",
      "Error:0.0026074913339205878\n",
      "Error:0.00241243585780678\n",
      "Error:0.002255374057769581\n",
      "Error:0.0021253922369666436\n",
      "Error:0.0020155135318473197\n",
      "Error:0.0019210424280486833\n"
     ]
    }
   ],
   "source": [
    "syn0 = 2 * np.random.random((9, 4)) - 1\n",
    "for j in range(60000):\n",
    "    l0 = X\n",
    "    l11 = np.dot(l0, syn0)\n",
    "    l1 = nonlin(l11)\n",
    "    l1_error = y - l1\n",
    "    if (j % 5000) == 0:\n",
    "        print (\"Error:\" + str(np.mean(np.abs(l1_error))))\n",
    "    l1_delta = (l1_error) * nonlin(l1, deriv=True)\n",
    "    syn0 += l0.T.dot(l1_delta)"
   ]
  },
  {
   "cell_type": "code",
   "execution_count": 6,
   "id": "074cc690",
   "metadata": {},
   "outputs": [
    {
     "name": "stdout",
     "output_type": "stream",
     "text": [
      "[[0.    0.002 0.997 0.047]]\n"
     ]
    }
   ],
   "source": [
    "Xvalid= np.array([[0, 1, 0, 1, 1, 0, 0, 1,0]])\n",
    "l0 = Xvalid\n",
    "l11 = np.dot(l0, syn0)\n",
    "l1 = nonlin(l11)\n",
    "print(np.round(l1,3))"
   ]
  }
 ],
 "metadata": {
  "kernelspec": {
   "display_name": ".venv",
   "language": "python",
   "name": "python3"
  },
  "language_info": {
   "codemirror_mode": {
    "name": "ipython",
    "version": 3
   },
   "file_extension": ".py",
   "mimetype": "text/x-python",
   "name": "python",
   "nbconvert_exporter": "python",
   "pygments_lexer": "ipython3",
   "version": "3.13.7"
  }
 },
 "nbformat": 4,
 "nbformat_minor": 5
}
