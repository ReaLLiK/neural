{
 "cells": [
  {
   "cell_type": "code",
   "execution_count": 148,
   "id": "61185a18",
   "metadata": {},
   "outputs": [],
   "source": [
    "import numpy as np\n",
    "import pandas as pd\n",
    "import math\n",
    "from scipy.special import logit"
   ]
  },
  {
   "cell_type": "code",
   "execution_count": 132,
   "id": "cdbc9797",
   "metadata": {},
   "outputs": [
    {
     "name": "stdout",
     "output_type": "stream",
     "text": [
      "4     2.1598\n",
      "5     2.1598\n",
      "6     2.1701\n",
      "7     2.1788\n",
      "8     2.1727\n",
      "9     2.1727\n",
      "10    2.1727\n",
      "11    2.1727\n",
      "12     2.159\n",
      "13    2.1569\n",
      "14    2.1532\n",
      "15    2.1503\n",
      "16    2.1503\n",
      "17    2.1503\n",
      "18    2.1542\n",
      "19    2.1571\n",
      "20    2.1556\n",
      "21    2.1546\n",
      "22    2.1499\n",
      "23    2.1499\n",
      "24    2.1499\n",
      "Name: Unnamed: 50, dtype: object\n"
     ]
    }
   ],
   "source": [
    "df=pd.read_excel(\"2019_day_ru.xls\")\n",
    "data=df.iloc[4:25,50]\n",
    "print(data)\n",
    "maxV=data.max()\n",
    "minV=data.min()\n",
    "data=norm(data)"
   ]
  },
  {
   "cell_type": "code",
   "execution_count": 133,
   "id": "e0bd1c39",
   "metadata": {},
   "outputs": [],
   "source": [
    "def norm(x, reverse=False):\n",
    "    if reverse==True:\n",
    "        return (x*(maxV-minV)+minV)\n",
    "    return (x-minV)/(maxV-minV)"
   ]
  },
  {
   "cell_type": "code",
   "execution_count": 151,
   "id": "746da056",
   "metadata": {},
   "outputs": [
    {
     "name": "stdout",
     "output_type": "stream",
     "text": [
      "[[0.34256055 0.34256055 0.69896194 1.        ]\n",
      " [0.34256055 0.69896194 1.         0.78892734]\n",
      " [0.69896194 1.         0.78892734 0.78892734]\n",
      " [1.         0.78892734 0.78892734 0.78892734]\n",
      " [0.78892734 0.78892734 0.78892734 0.78892734]\n",
      " [0.78892734 0.78892734 0.78892734 0.31487889]\n",
      " [0.78892734 0.78892734 0.31487889 0.24221453]\n",
      " [0.78892734 0.31487889 0.24221453 0.11418685]\n",
      " [0.31487889 0.24221453 0.11418685 0.01384083]\n",
      " [0.24221453 0.11418685 0.01384083 0.01384083]\n",
      " [0.11418685 0.01384083 0.01384083 0.01384083]\n",
      " [0.01384083 0.01384083 0.01384083 0.14878893]\n",
      " [0.01384083 0.01384083 0.14878893 0.24913495]]\n",
      "[[0.7889273356401364]\n",
      " [0.7889273356401364]\n",
      " [0.7889273356401364]\n",
      " [0.7889273356401364]\n",
      " [0.3148788927335556]\n",
      " [0.24221453287196348]\n",
      " [0.11418685121106895]\n",
      " [0.013840830449825607]\n",
      " [0.013840830449825607]\n",
      " [0.013840830449825607]\n",
      " [0.14878892733563295]\n",
      " [0.2491349480968763]\n",
      " [0.19723183391003796]]\n"
     ]
    }
   ],
   "source": [
    "rows=[]\n",
    "for i in range(13):\n",
    "    buff=np.array([[data.iloc[i],data.iloc[i+1],data.iloc[i+2],data.iloc[i+3]]])\n",
    "    rows.append(buff)\n",
    "input=np.array(rows, dtype=float).reshape((13,4))\n",
    "output=data.iloc[4:17].to_numpy().reshape((13,1))\n",
    "print(input)\n",
    "print(output)"
   ]
  },
  {
   "cell_type": "code",
   "execution_count": 152,
   "id": "ca557764",
   "metadata": {},
   "outputs": [],
   "source": [
    "def nonlin(x, deriv=False):\n",
    "    if(deriv==True):\n",
    "        return(x*(1-x))\n",
    "    return 1/(1+np.exp(-x))"
   ]
  },
  {
   "cell_type": "code",
   "execution_count": 153,
   "id": "18b86398",
   "metadata": {},
   "outputs": [
    {
     "name": "stdout",
     "output_type": "stream",
     "text": [
      "0.0033635617036206046\n",
      "[[2.17154873]\n",
      " [2.17083334]\n",
      " [2.16986568]\n",
      " [2.1669643 ]\n",
      " [2.16827396]\n",
      " [2.15654756]\n",
      " [2.15293754]\n",
      " [2.15112547]\n",
      " [2.15130428]\n",
      " [2.15135217]\n",
      " [2.15179607]\n",
      " [2.15509362]\n",
      " [2.15719173]]\n"
     ]
    },
    {
     "name": "stderr",
     "output_type": "stream",
     "text": [
      "C:\\Users\\Dell\\AppData\\Local\\Temp\\ipykernel_19028\\3313319139.py:15: DeprecationWarning: Conversion of an array with ndim > 0 to a scalar is deprecated, and will error in future. Ensure you extract a single element from your array before performing this operation. (Deprecated NumPy 1.25.)\n",
      "  print(math.sqrt(sum(((norm(output,reverse=True)-norm(l2, reverse=True))**2)/13)))\n"
     ]
    }
   ],
   "source": [
    "syn0=2*np.random.random((4,8))-1\n",
    "syn1=2*np.random.random((8,1))-1\n",
    "for i in range(60000):\n",
    "    l0=input\n",
    "    l1=nonlin(np.dot(l0,syn0))\n",
    "    l2=nonlin(np.dot(l1,syn1))\n",
    "    l2_error=output-l2\n",
    "    l2_delta=l2_error*nonlin(l2, True)\n",
    "    l1_error=l2_delta.dot(syn1.T)\n",
    "    l1_delta=l1_error*nonlin(l1, True)\n",
    "    syn1=syn1+l1.T.dot(l2_delta)\n",
    "    syn0=syn0+l0.T.dot(l1_delta)\n",
    "    syn1=syn1.astype(float)\n",
    "    syn0=syn0.astype(float)\n",
    "print(math.sqrt(sum(((norm(output,reverse=True)-norm(l2, reverse=True))**2)/13)))\n",
    "print(norm(l2, reverse=True))\n"
   ]
  },
  {
   "cell_type": "code",
   "execution_count": 160,
   "id": "d5f8101d",
   "metadata": {},
   "outputs": [
    {
     "name": "stdout",
     "output_type": "stream",
     "text": [
      "[2.1556 2.1539 2.1527 2.1516 2.1516 2.1516 2.1523]\n",
      "[[2.15236603]\n",
      " [2.15262719]\n",
      " [2.15287793]]\n"
     ]
    }
   ],
   "source": [
    "valid=df.iloc[26:33,50].to_numpy()\n",
    "print(valid)\n",
    "validx=np.array([[2.1556, 2.1539, 2.1527, 2.1516],\n",
    "        [2.1539, 2.1527, 2.1516, 2.1516],\n",
    "        [2.1527, 2.1516, 2.1516, 2.1516]])\n",
    "validy=np.array([[2.1516], [2.1516], [2.1523]])\n",
    "validx=norm(validx)\n",
    "l0=validx\n",
    "l1=nonlin(np.dot(l0,syn0))\n",
    "l2=nonlin(np.dot(l1,syn1))\n",
    "l2=norm(l2, reverse=True)\n",
    "print(l2)"
   ]
  }
 ],
 "metadata": {
  "kernelspec": {
   "display_name": ".venv",
   "language": "python",
   "name": "python3"
  },
  "language_info": {
   "codemirror_mode": {
    "name": "ipython",
    "version": 3
   },
   "file_extension": ".py",
   "mimetype": "text/x-python",
   "name": "python",
   "nbconvert_exporter": "python",
   "pygments_lexer": "ipython3",
   "version": "3.13.7"
  }
 },
 "nbformat": 4,
 "nbformat_minor": 5
}
