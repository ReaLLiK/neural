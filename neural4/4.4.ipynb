{
 "cells": [
  {
   "cell_type": "code",
   "execution_count": 1,
   "id": "6575e303",
   "metadata": {},
   "outputs": [],
   "source": [
    "import numpy as np\n",
    "import pandas as pd\n",
    "import math"
   ]
  },
  {
   "cell_type": "code",
   "execution_count": 2,
   "id": "9baec285",
   "metadata": {},
   "outputs": [
    {
     "name": "stdout",
     "output_type": "stream",
     "text": [
      "Входные данные (X):\n",
      "[[0.5  1.   0.14]\n",
      " [0.9  1.   0.29]\n",
      " [0.8  0.   0.14]\n",
      " [0.3  1.   0.14]\n",
      " [0.6  1.   0.29]\n",
      " [0.4  0.   0.14]\n",
      " [0.9  1.   1.  ]\n",
      " [0.6  1.   0.57]\n",
      " [0.1  0.   0.14]\n",
      " [0.6  1.   0.  ]\n",
      " [1.   0.   0.  ]]\n",
      "\n",
      "Выходные данные (y):\n",
      "[[1 0 0 0]\n",
      " [1 0 0 0]\n",
      " [1 0 0 0]\n",
      " [0 1 0 0]\n",
      " [0 1 0 0]\n",
      " [0 1 0 0]\n",
      " [0 0 1 0]\n",
      " [0 0 1 0]\n",
      " [0 0 1 0]\n",
      " [0 0 0 1]\n",
      " [0 0 0 1]]\n"
     ]
    }
   ],
   "source": [
    "data = {\n",
    "    \"Здоровье\": [0.5, 0.9, 0.8, 0.3, 0.6, 0.4, 0.9, 0.6, 0.1, 0.6, 1],\n",
    "    \"Пистолет\": [1, 1, 0, 1, 1, 0, 1, 1, 0, 1, 0],\n",
    "    \"Враги\": [0.14, 0.29, 0.14, 0.14, 0.29, 0.14, 1, 0.57, 0.14, 0, 0],\n",
    "    \"Действие\":[[1,0,0,0],[1,0,0,0],[1,0,0,0],[0,1,0,0],[0,1,0,0],[0,1,0,0],[0,0,1,0],[0,0,1,0],[0,0,1,0],[0,0,0,1],[0,0,0,1]]\n",
    "}\n",
    "df = pd.DataFrame(data)\n",
    "X = df[[\"Здоровье\", \"Пистолет\", \"Враги\"]].values\n",
    "y = np.array(df[\"Действие\"].tolist())\n",
    "\n",
    "print(\"Входные данные (X):\")\n",
    "print(X)\n",
    "print(\"\\nВыходные данные (y):\")\n",
    "print(y)"
   ]
  },
  {
   "cell_type": "code",
   "execution_count": 3,
   "id": "e251b573",
   "metadata": {},
   "outputs": [],
   "source": [
    "def nonlin(x, deriv=False):\n",
    "    if(deriv==True):\n",
    "        return(x*(1-x))\n",
    "    return 1/(1+np.exp(-x))"
   ]
  },
  {
   "cell_type": "code",
   "execution_count": 20,
   "id": "7e4e1af1",
   "metadata": {},
   "outputs": [
    {
     "name": "stdout",
     "output_type": "stream",
     "text": [
      "[[0.927 0.158 0.    0.006]\n",
      " [0.963 0.07  0.    0.   ]\n",
      " [0.987 0.037 0.    0.027]\n",
      " [0.054 0.872 0.005 0.   ]\n",
      " [0.001 0.896 0.045 0.   ]\n",
      " [0.033 0.875 0.016 0.   ]\n",
      " [0.    0.    0.997 0.   ]\n",
      " [0.    0.012 0.954 0.   ]\n",
      " [0.    0.128 0.996 0.   ]\n",
      " [0.057 0.047 0.    0.968]\n",
      " [0.028 0.016 0.    0.983]]\n"
     ]
    }
   ],
   "source": [
    "syn0=2*np.random.random((3,4))-1\n",
    "syn1=2*np.random.random((4,4))-1\n",
    "for i in range(2000):\n",
    "    l0=X\n",
    "    l1=nonlin(np.dot(l0,syn0))\n",
    "    l2=nonlin(np.dot(l1,syn1))\n",
    "    l2_error=y-l2\n",
    "    l2_delta=l2_error*nonlin(l2, True)\n",
    "    l1_error=l2_delta.dot(syn1.T)\n",
    "    l1_delta=l1_error*nonlin(l1, True)\n",
    "    syn1=syn1+l1.T.dot(l2_delta)\n",
    "    syn0=syn0+l0.T.dot(l1_delta)\n",
    "    syn1=syn1.astype(float)\n",
    "    syn0=syn0.astype(float)\n",
    "print(np.round(l2, 3))"
   ]
  }
 ],
 "metadata": {
  "kernelspec": {
   "display_name": ".venv",
   "language": "python",
   "name": "python3"
  },
  "language_info": {
   "codemirror_mode": {
    "name": "ipython",
    "version": 3
   },
   "file_extension": ".py",
   "mimetype": "text/x-python",
   "name": "python",
   "nbconvert_exporter": "python",
   "pygments_lexer": "ipython3",
   "version": "3.13.7"
  }
 },
 "nbformat": 4,
 "nbformat_minor": 5
}
