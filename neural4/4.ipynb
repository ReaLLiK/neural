{
 "cells": [
  {
   "cell_type": "code",
   "execution_count": 2,
   "id": "6cd19d15",
   "metadata": {},
   "outputs": [],
   "source": [
    "import numpy as np\n",
    "import random\n",
    "import math"
   ]
  },
  {
   "cell_type": "code",
   "execution_count": 3,
   "id": "83219514",
   "metadata": {},
   "outputs": [],
   "source": [
    "def nonlin(x, deriv=False):\n",
    "    if(deriv==True):\n",
    "        return(x*(1-x))\n",
    "    return 1/(1+np.exp(-x))"
   ]
  },
  {
   "cell_type": "code",
   "execution_count": null,
   "id": "0c99f38f",
   "metadata": {},
   "outputs": [],
   "source": [
    "X=np.array([[0,0,1], [0,1,1], [1,0,1], [1,1,1]])\n",
    "y=np.array([[0,0,1,1]]).T\n",
    "random.seed(1)\n",
    "syn0=2*np.random.random((3,1))-1"
   ]
  },
  {
   "cell_type": "code",
   "execution_count": 47,
   "id": "10c40e5c",
   "metadata": {},
   "outputs": [
    {
     "name": "stdout",
     "output_type": "stream",
     "text": [
      "[[0.4354051 ]\n",
      " [0.24468524]\n",
      " [0.32519638]\n",
      " [0.16835612]]\n",
      "Ошибка: [[-0.4354051 ]\n",
      " [-0.24468524]\n",
      " [ 0.67480362]\n",
      " [ 0.83164388]]\n",
      "Ошибка: [[-0.02217691]\n",
      " [-0.01791624]\n",
      " [ 0.01456287]\n",
      " [ 0.01804072]]\n",
      "Ошибка: [[-0.01547057]\n",
      " [-0.01254252]\n",
      " [ 0.01020968]\n",
      " [ 0.01260008]]\n",
      "Ошибка: [[-0.01255761]\n",
      " [-0.01019579]\n",
      " [ 0.00830447]\n",
      " [ 0.0102327 ]]\n",
      "Ошибка: [[-0.01083757]\n",
      " [-0.00880666]\n",
      " [ 0.00717556]\n",
      " [ 0.00883367]]\n",
      "l1: [[0.00967117]\n",
      " [0.00786324]\n",
      " [0.99359162]\n",
      " [0.99211553]]\n",
      "Веса: [[ 9.67270943]\n",
      " [-0.20877439]\n",
      " [-4.62893943]]\n"
     ]
    }
   ],
   "source": [
    "print(nonlin(np.dot(X,syn0)))\n",
    "for i in range(10000):\n",
    "    l0=X\n",
    "    l1=nonlin(np.dot(l0,syn0))\n",
    "    l1_error=y-l1\n",
    "    if(i%2000==0):\n",
    "        print(\"Ошибка:\", l1_error)\n",
    "    l1_delta=l1_error*nonlin(l1, True)\n",
    "    syn0+=np.dot(l0.T, l1_delta)\n",
    "print(\"l1:\",  l1)\n",
    "print(\"Веса:\", syn0)"
   ]
  },
  {
   "cell_type": "code",
   "execution_count": 74,
   "id": "c4bb53d4",
   "metadata": {},
   "outputs": [
    {
     "name": "stdout",
     "output_type": "stream",
     "text": [
      "Ошибка: [[-0.81506612]\n",
      " [-0.80296229]\n",
      " [ 0.18093397]\n",
      " [ 0.19323026]]\n",
      "Ошибка: [[-0.04901467]\n",
      " [-0.02904173]\n",
      " [ 0.0234065 ]\n",
      " [ 0.01887465]]\n"
     ]
    }
   ],
   "source": [
    "syn0=2*np.random.random((3,4))-1\n",
    "syn1=2*np.random.random((4,1))-1\n",
    "for i in range(60000):\n",
    "    l0=X\n",
    "    l1=nonlin(np.dot(l0,syn0))\n",
    "    l2=nonlin(np.dot(l1,syn1))\n",
    "    l2_error=y-l2\n",
    "    if(i%30000==0):\n",
    "        print(\"Ошибка:\", l2_error)\n",
    "    l2_delta=l2_error*nonlin(l2, True)\n",
    "    l1_error=l2_delta.dot(syn1.T)\n",
    "    l1_delta-l1_error*nonlin(l1, True)\n",
    "    syn1+=l1.T.dot(l2_delta)\n",
    "    syn0+=l0.T.dot(l1_delta)"
   ]
  },
  {
   "cell_type": "code",
   "execution_count": null,
   "id": "d24c8276",
   "metadata": {},
   "outputs": [
    {
     "name": "stdout",
     "output_type": "stream",
     "text": [
      "Ошибка: [[-0.34093213]\n",
      " [-0.291621  ]\n",
      " [ 0.58777562]\n",
      " [ 0.62710084]]\n",
      "Ошибка: [[-0.19254357]\n",
      " [-0.08556617]\n",
      " [ 0.10184293]\n",
      " [ 0.02652408]]\n"
     ]
    }
   ],
   "source": [
    "syn0=2*np.random.random((3,6))-1\n",
    "syn1=2*np.random.random((6,1))-1\n",
    "for i in range(60000):\n",
    "    l0=X\n",
    "    l1=nonlin(np.dot(l0,syn0))\n",
    "    l2=nonlin(np.dot(l1,syn1))\n",
    "    l2_error=y-l2\n",
    "    if(i%30000==0):\n",
    "        print(\"Ошибка:\", l2_error)\n",
    "    l2_delta=l2_error*nonlin(l2, True)\n",
    "    l1_error=l2_delta.dot(syn1.T)\n",
    "    l1_delta=l1_error*nonlin(l1, True)\n",
    "    syn1+=l1.T.dot(l2_delta)\n",
    "    syn0+=l0.T.dot(l1_delta)"
   ]
  },
  {
   "cell_type": "code",
   "execution_count": 80,
   "id": "52f0fcce",
   "metadata": {},
   "outputs": [
    {
     "name": "stdout",
     "output_type": "stream",
     "text": [
      "Ошибка: [[-0.51594514]\n",
      " [-0.51366608]\n",
      " [ 0.46995911]\n",
      " [ 0.4730335 ]]\n",
      "Ошибка: [[-0.0026787 ]\n",
      " [-0.00230442]\n",
      " [ 0.00265054]\n",
      " [ 0.00286601]]\n",
      "Ошибка: [[-0.00186101]\n",
      " [-0.00160372]\n",
      " [ 0.00185706]\n",
      " [ 0.00200387]]\n"
     ]
    }
   ],
   "source": [
    "syn0=2*np.random.random((3,4))-1\n",
    "syn1=2*np.random.random((4,4))-1\n",
    "syn2=2*np.random.random((4,1))-1\n",
    "for i in range(60000):\n",
    "    l0=X\n",
    "    l1=nonlin(np.dot(l0,syn0))\n",
    "    l2=nonlin(np.dot(l1,syn1))\n",
    "    l3=nonlin(np.dot(l2,syn2))\n",
    "    l3_error=y-l3\n",
    "    if(i%29000==0):\n",
    "        print(\"Ошибка:\", l3_error)\n",
    "    l3_delta=l3_error*nonlin(l3, True)\n",
    "    l2_error=l3_delta.dot(syn2.T)\n",
    "    l2_delta=l2_error*nonlin(l2, True)\n",
    "    l1_error=l2_delta.dot(syn1.T)\n",
    "    l1_delta=l1_error*nonlin(l1, True)\n",
    "    syn2+=l2.T.dot(l3_delta)\n",
    "    syn1+=l1.T.dot(l2_delta)\n",
    "    syn0+=l0.T.dot(l1_delta)"
   ]
  },
  {
   "cell_type": "code",
   "execution_count": 4,
   "id": "9aaa25a7",
   "metadata": {},
   "outputs": [
    {
     "name": "stdout",
     "output_type": "stream",
     "text": [
      "Ошибка: [[ 0.56565132]\n",
      " [ 0.56568607]\n",
      " [-0.43432222]\n",
      " [-0.43436784]]\n",
      "Ошибка: [[ 0.00511307]\n",
      " [ 0.00511359]\n",
      " [-0.00665939]\n",
      " [-0.00199492]]\n",
      "Ошибка: [[ 0.00311115]\n",
      " [ 0.00311144]\n",
      " [-0.00404505]\n",
      " [-0.00120046]]\n",
      "[[0.99695627]\n",
      " [0.99695599]\n",
      " [0.00395713]\n",
      " [0.00117389]]\n"
     ]
    }
   ],
   "source": [
    "X=np.array([[0,1], [1,0], [1,1], [0,0]])\n",
    "y=np.array([[1,1,0,0]]).T\n",
    "syn0=2*np.random.random((2,2))-1\n",
    "syn1=2*np.random.random((2,2))-1\n",
    "syn2=2*np.random.random((2,2))-1\n",
    "syn3=2*np.random.random((2,1))-1\n",
    "for i in range(60000):\n",
    "    l0=X\n",
    "    l1=nonlin(np.dot(l0,syn0))\n",
    "    l2=nonlin(np.dot(l1,syn1))\n",
    "    l3=nonlin(np.dot(l2,syn2))\n",
    "    l4=nonlin(np.dot(l3,syn3))\n",
    "    l4_error=y-l4\n",
    "    if(i%29000==0):\n",
    "        print(\"Ошибка:\", l4_error)\n",
    "    l4_delta=l4_error*nonlin(l4, True)\n",
    "    l3_error=l4_delta.dot(syn3.T)\n",
    "    l3_delta=l3_error*nonlin(l3, True)\n",
    "    l2_error=l3_delta.dot(syn2.T)\n",
    "    l2_delta=l2_error*nonlin(l2, True)\n",
    "    l1_error=l2_delta.dot(syn1.T)\n",
    "    l1_delta=l1_error*nonlin(l1, True)\n",
    "    syn3+=l3.T.dot(l4_delta)\n",
    "    syn2+=l2.T.dot(l3_delta)\n",
    "    syn1+=l1.T.dot(l2_delta)\n",
    "    syn0+=l0.T.dot(l1_delta)\n",
    "print(l4)"
   ]
  },
  {
   "cell_type": "code",
   "execution_count": 89,
   "id": "a29307a8",
   "metadata": {},
   "outputs": [
    {
     "name": "stdout",
     "output_type": "stream",
     "text": [
      "[[0.00300734]\n",
      " [0.99587496]\n",
      " [0.9951871 ]\n",
      " [0.00502576]]\n"
     ]
    }
   ],
   "source": [
    "X = np.array([ [0,0,1],[0,1,1],[1,0,1],[1,1,1] ])\n",
    "y = np.array([[0,1,1,0]]).T\n",
    "syn0 = 2*np.random.random((3,4)) - 1\n",
    "syn1 = 2*np.random.random((4,1)) - 1\n",
    "for j in range(60000):\n",
    "    l1 = 1/(1+np.exp(-(np.dot(X,syn0))))\n",
    "    l2 = 1/(1+np.exp(-(np.dot(l1,syn1))))\n",
    "    l2_delta = (y - l2)*(l2*(1-l2))\n",
    "    l1_delta = l2_delta.dot(syn1.T) * (l1 * (1-l1))\n",
    "    syn1 += l1.T.dot(l2_delta)\n",
    "    syn0 += X.T.dot(l1_delta)\n",
    "print(l2)"
   ]
  }
 ],
 "metadata": {
  "kernelspec": {
   "display_name": ".venv",
   "language": "python",
   "name": "python3"
  },
  "language_info": {
   "codemirror_mode": {
    "name": "ipython",
    "version": 3
   },
   "file_extension": ".py",
   "mimetype": "text/x-python",
   "name": "python",
   "nbconvert_exporter": "python",
   "pygments_lexer": "ipython3",
   "version": "3.13.7"
  }
 },
 "nbformat": 4,
 "nbformat_minor": 5
}
