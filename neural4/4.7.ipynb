{
 "cells": [
  {
   "cell_type": "code",
   "execution_count": 6,
   "id": "d460bdf3",
   "metadata": {},
   "outputs": [],
   "source": [
    "import numpy as np\n",
    "import pandas as pd\n",
    "import math\n",
    "import re"
   ]
  },
  {
   "cell_type": "code",
   "execution_count": 2,
   "id": "fd722009",
   "metadata": {},
   "outputs": [],
   "source": [
    "def nonlin(x, deriv=False):\n",
    "    if (deriv == True):\n",
    "        return (x * (1 - x))\n",
    "\n",
    "    return 1 / (1 + np.exp(-x))"
   ]
  },
  {
   "cell_type": "code",
   "execution_count": null,
   "id": "02c8b185",
   "metadata": {},
   "outputs": [],
   "source": [
    "def check_spam_features(text):\n",
    "    uppercase_words = re.findall(r'\\b[A-ZА-Я]{2,}\\b', text)\n",
    "    has_uppercase = 1 if uppercase_words else 0\n",
    "    text_lower = text.lower()\n",
    "    has_keywords = 1 if 'скидки' in text_lower or 'распродажа' in text_lower else 0\n",
    "    return has_uppercase, has_keywords"
   ]
  },
  {
   "cell_type": "code",
   "execution_count": 20,
   "id": "82799fe4",
   "metadata": {},
   "outputs": [
    {
     "name": "stdout",
     "output_type": "stream",
     "text": [
      "[[1 1]\n",
      " [0 0]\n",
      " [1 1]\n",
      " [0 1]\n",
      " [0 0]\n",
      " [1 0]\n",
      " [0 1]]\n",
      "[[1]\n",
      " [0]\n",
      " [1]\n",
      " [1]\n",
      " [0]\n",
      " [1]\n",
      " [1]]\n"
     ]
    }
   ],
   "source": [
    "X=[]\n",
    "test_texts = [\n",
    "    \"СКИДКИ на все товары! РАСПРОДАЖА\",\n",
    "    \"Привет, как дела?\",\n",
    "    \"Большая РАСПРОДАЖА начинается завтра\",\n",
    "    \"сегодня скидки на все\",\n",
    "    \"Обычное предложение без акций\",\n",
    "    \"ВНИМАНИЕ! важное объявление\",\n",
    "    \"Скидки и распродажа целый месяц\"\n",
    "]\n",
    "for text in test_texts:\n",
    "    a = check_spam_features(text)\n",
    "    X.append(a)\n",
    "X=np.array(X)\n",
    "print(X)\n",
    "y=np.array([[1,0,1,1,0,1,1]]).T\n",
    "print(y)"
   ]
  },
  {
   "cell_type": "code",
   "execution_count": 25,
   "id": "64a176bf",
   "metadata": {},
   "outputs": [
    {
     "name": "stdout",
     "output_type": "stream",
     "text": [
      "[[0.99797373]\n",
      " [0.00505089]\n",
      " [0.99797373]\n",
      " [0.99720059]\n",
      " [0.00505089]\n",
      " [0.99676888]\n",
      " [0.99720059]]\n"
     ]
    }
   ],
   "source": [
    "syn0 = 2 * np.random.random((2, 2)) - 1\n",
    "syn1 = 2 * np.random.random((2, 1)) - 1\n",
    "for j in range(60000):\n",
    "    l0=X\n",
    "    l1=nonlin(np.dot(l0,syn0))\n",
    "    l2=nonlin(np.dot(l1,syn1))\n",
    "    l2_error=y-l2\n",
    "    l2_delta=l2_error*nonlin(l2, True)\n",
    "    l1_error=l2_delta.dot(syn1.T)\n",
    "    l1_delta=l1_error*nonlin(l1, True)\n",
    "    syn1=syn1+l1.T.dot(l2_delta)\n",
    "    syn0=syn0+l0.T.dot(l1_delta)\n",
    "    syn1=syn1.astype(float)\n",
    "    syn0=syn0.astype(float)\n",
    "print(l2)"
   ]
  }
 ],
 "metadata": {
  "kernelspec": {
   "display_name": ".venv",
   "language": "python",
   "name": "python3"
  },
  "language_info": {
   "codemirror_mode": {
    "name": "ipython",
    "version": 3
   },
   "file_extension": ".py",
   "mimetype": "text/x-python",
   "name": "python",
   "nbconvert_exporter": "python",
   "pygments_lexer": "ipython3",
   "version": "3.13.7"
  }
 },
 "nbformat": 4,
 "nbformat_minor": 5
}
