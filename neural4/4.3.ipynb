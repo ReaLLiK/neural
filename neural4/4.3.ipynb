{
 "cells": [
  {
   "cell_type": "code",
   "execution_count": null,
   "id": "b21a1b9f",
   "metadata": {},
   "outputs": [],
   "source": [
    "import numpy as np\n",
    "import pandas as pd"
   ]
  },
  {
   "cell_type": "code",
   "execution_count": 7,
   "id": "eb2ecf0c",
   "metadata": {},
   "outputs": [],
   "source": [
    "data = {\n",
    "    \"Масса(т.)\": [0.25, 0.75, 0.5, 1, 0.75, 1, 0.75, 0.75, 1],\n",
    "    \"Двигатель(л.с.)\": [0.25, 0.75, 0.5, 1, 0.75, 0.75, 0.75, 0.75, 1],\n",
    "    \"Пассажиров(чел.)\": [0.25, 0.75, 0.25, 0.25, 0.25, 1, 0.25, 0.25, 1],\n",
    "    \"Грузоподъёмн.(т.)\": [0, 0.25, 0, 1, 0.25, 1, 0.5, 0, 1],\n",
    "    \"Type\":[[1,0,0],[0,1,0],[1,0,0],[0,0,1],[0,0,1],[0,1,0],[0,0,1],[1,0,0],[0,1,0]]\n",
    "}\n",
    "index = [\"Ока\", \"Газель пассажир.\", \"Лада Калина\", \"Камаз(3 оси)\", \"Газель груз.\",\n",
    "         \"ПАЗ34234(пазик)\", \"ЗИЛ-5301(бычок)\", \"УАЗ Патриот\", \"ЛиАЗ-6213\"]\n",
    "df = pd.DataFrame(data, index=index)\n",
    "\n"
   ]
  },
  {
   "cell_type": "code",
   "execution_count": 6,
   "id": "ac0080d8",
   "metadata": {},
   "outputs": [
    {
     "name": "stdout",
     "output_type": "stream",
     "text": [
      "Входные данные (X):\n",
      "[[0.25 0.25 0.25 0.  ]\n",
      " [0.75 0.75 0.75 0.25]\n",
      " [0.5  0.5  0.25 0.  ]\n",
      " [1.   1.   0.25 1.  ]\n",
      " [0.75 0.75 0.25 0.25]\n",
      " [1.   0.75 1.   1.  ]\n",
      " [0.75 0.75 0.25 0.5 ]\n",
      " [0.75 0.75 0.25 0.  ]\n",
      " [1.   1.   1.   1.  ]]\n",
      "\n",
      "Выходные данные (y):\n",
      "[[1 0 0]\n",
      " [0 1 0]\n",
      " [1 0 0]\n",
      " [0 0 1]\n",
      " [0 0 1]\n",
      " [0 1 0]\n",
      " [0 0 1]\n",
      " [1 0 0]\n",
      " [0 1 0]]\n"
     ]
    }
   ],
   "source": [
    "X = df[[\"Масса(т.)\", \"Двигатель(л.с.)\", \"Пассажиров(чел.)\", \"Грузоподъёмн.(т.)\"]].values\n",
    "y = np.array(df[\"Type\"].tolist())\n",
    "\n",
    "print(\"Входные данные (X):\")\n",
    "print(X)\n",
    "print(\"\\nВыходные данные (y):\")\n",
    "print(y)"
   ]
  },
  {
   "cell_type": "code",
   "execution_count": 8,
   "id": "661f1a5c",
   "metadata": {},
   "outputs": [],
   "source": [
    "def nonlin(x, deriv=False):\n",
    "    if(deriv==True):\n",
    "        return(x*(1-x))\n",
    "    return 1/(1+np.exp(-x))"
   ]
  },
  {
   "cell_type": "code",
   "execution_count": 16,
   "id": "100bb4bb",
   "metadata": {},
   "outputs": [
    {
     "name": "stdout",
     "output_type": "stream",
     "text": [
      "[[0.8994 0.2051 0.0025]\n",
      " [0.0565 0.8766 0.    ]\n",
      " [0.9774 0.     0.0132]\n",
      " [0.     0.0494 1.    ]\n",
      " [0.0172 0.     0.9221]\n",
      " [0.     1.     0.01  ]\n",
      " [0.     0.0016 0.9995]\n",
      " [0.9952 0.     0.0665]\n",
      " [0.     1.     0.0297]]\n"
     ]
    }
   ],
   "source": [
    "syn0=2*np.random.random((4,3))-1\n",
    "for i in range(10000):\n",
    "    l0=X\n",
    "    l1=nonlin(np.dot(l0,syn0))\n",
    "    l1_error=y-l1\n",
    "    l1_delta=l1_error*nonlin(l1, True)\n",
    "    syn0=syn0+l0.T.dot(l1_delta)\n",
    "    syn0=syn0.astype(float)\n",
    "print(np.round(l1, 4))"
   ]
  }
 ],
 "metadata": {
  "kernelspec": {
   "display_name": ".venv",
   "language": "python",
   "name": "python3"
  },
  "language_info": {
   "codemirror_mode": {
    "name": "ipython",
    "version": 3
   },
   "file_extension": ".py",
   "mimetype": "text/x-python",
   "name": "python",
   "nbconvert_exporter": "python",
   "pygments_lexer": "ipython3",
   "version": "3.13.7"
  }
 },
 "nbformat": 4,
 "nbformat_minor": 5
}
