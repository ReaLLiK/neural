{
 "cells": [
  {
   "cell_type": "code",
   "execution_count": 1,
   "id": "0da89833",
   "metadata": {},
   "outputs": [],
   "source": [
    "import numpy as np\n",
    "import pandas as pd\n",
    "import math"
   ]
  },
  {
   "cell_type": "code",
   "execution_count": 2,
   "id": "655a3f12",
   "metadata": {},
   "outputs": [],
   "source": [
    "def nonlin(x, deriv=False):\n",
    "    if (deriv == True):\n",
    "        return (x * (1 - x))\n",
    "\n",
    "    return 1 / (1 + np.exp(-x))"
   ]
  },
  {
   "cell_type": "code",
   "execution_count": 3,
   "id": "aa3af4e7",
   "metadata": {},
   "outputs": [],
   "source": [
    "X = np.array([[111110, 1000010, 1000010, 111110, 1010, 10010, 100010, 1000010],\n",
    "              [1111100, 1000010, 1000010, 1111100, 1000010, 1000010, 1000010, 1111100],\n",
    "              [11000, 100100, 100100, 100100, 100100, 100100, 1111110, 1000010]])\n",
    "y = np.array([[1, 0, 0],\n",
    "              [0, 1, 0],\n",
    "              [0, 0, 1]])"
   ]
  },
  {
   "cell_type": "code",
   "execution_count": null,
   "id": "d9d6e0ab",
   "metadata": {},
   "outputs": [
    {
     "name": "stdout",
     "output_type": "stream",
     "text": [
      "Error:0.38397323964251323\n"
     ]
    },
    {
     "name": "stderr",
     "output_type": "stream",
     "text": [
      "C:\\Users\\Dell\\AppData\\Local\\Temp\\ipykernel_6044\\4238448256.py:5: RuntimeWarning: overflow encountered in exp\n",
      "  return 1 / (1 + np.exp(-x))\n"
     ]
    }
   ],
   "source": [
    "syn0 = 2 * np.random.random((8, 10)) - 1\n",
    "syn1 = 2 * np.random.random((10, 3)) - 1\n",
    "for j in range(10000):\n",
    "    l0 = X\n",
    "    l11 = np.dot(l0, syn0)\n",
    "    l1 = nonlin(l11)\n",
    "    l22 = np.dot(l1, syn1)\n",
    "    l2 = nonlin(l22)\n",
    "    l2_error = y - l2\n",
    "    if (j % 5000) == 0:\n",
    "        print (\"Error:\" + str(np.mean(np.abs(l2_error))))\n",
    "    l2_delta = (l2_error) * nonlin(l2, deriv=True)\n",
    "    l1_error = np.dot(l2_delta, syn1.T)\n",
    "    l1_delta = l1_error * nonlin(l1, deriv=True)\n",
    "    syn1 += l1.T.dot(l2_delta)\n",
    "    syn0 += l0.T.dot(l1_delta)"
   ]
  },
  {
   "cell_type": "code",
   "execution_count": 14,
   "id": "da446360",
   "metadata": {},
   "outputs": [],
   "source": [
    "test=np.array([[1111100, 1000010, 1000010, 1111100, 1000010, 1000010, 1001010, 1111100],\n",
    "               [11111111, 11111111, 11111111, 11111111, 11111111, 11111111, 11111111, 11111111]])"
   ]
  },
  {
   "cell_type": "code",
   "execution_count": 15,
   "id": "e16ac0b0",
   "metadata": {},
   "outputs": [
    {
     "name": "stdout",
     "output_type": "stream",
     "text": [
      "[[3.60208986e-04 9.87088954e-01 2.00788272e-02]\n",
      " [8.46190678e-04 9.23098764e-01 1.81853124e-02]]\n"
     ]
    },
    {
     "name": "stderr",
     "output_type": "stream",
     "text": [
      "C:\\Users\\Dell\\AppData\\Local\\Temp\\ipykernel_6044\\4238448256.py:5: RuntimeWarning: overflow encountered in exp\n",
      "  return 1 / (1 + np.exp(-x))\n"
     ]
    }
   ],
   "source": [
    "l0 = test\n",
    "l11 = np.dot(l0, syn0)\n",
    "l1 = nonlin(l11)\n",
    "l22 = np.dot(l1, syn1)\n",
    "l2 = nonlin(l22)\n",
    "print(l2)"
   ]
  },
  {
   "cell_type": "code",
   "execution_count": 5,
   "id": "17709023",
   "metadata": {},
   "outputs": [
    {
     "name": "stderr",
     "output_type": "stream",
     "text": [
      "C:\\Users\\Dell\\AppData\\Local\\Temp\\ipykernel_18444\\4238448256.py:5: RuntimeWarning: overflow encountered in exp\n",
      "  return 1 / (1 + np.exp(-x))\n"
     ]
    },
    {
     "name": "stdout",
     "output_type": "stream",
     "text": [
      "Error:0.4886106425512557\n",
      "Error:0.00736165100771347\n",
      "Error:0.005079238576994118\n",
      "Error:0.00409633307718476\n",
      "Error:0.0035190091766558523\n",
      "Error:0.003128886720926439\n",
      "Error:0.0028430071741278105\n",
      "Error:0.0026220994781620908\n",
      "Error:0.002444872919529258\n",
      "Error:0.0022986608000758043\n",
      "Error:0.002175397260324246\n",
      "Error:0.0020696720400760135\n"
     ]
    }
   ],
   "source": [
    "syn0 = 2 * np.random.random((8, 10)) - 1\n",
    "syn1 = 2 * np.random.random((10, 10)) - 1\n",
    "syn2 = 2 * np.random.random((10, 3)) - 1\n",
    "for j in range(60000):\n",
    "    l0 = X\n",
    "    l11 = np.dot(l0, syn0)\n",
    "    l1 = nonlin(l11)\n",
    "    l22 = np.dot(l1, syn1)\n",
    "    l2 = nonlin(l22)\n",
    "    l33 = np.dot(l2, syn2)\n",
    "    l3 = nonlin(l33)\n",
    "    l3_error = y - l3\n",
    "    if (j % 5000) == 0:\n",
    "        print (\"Error:\" + str(np.mean(np.abs(l3_error))))\n",
    "    l3_delta = (l3_error) * nonlin(l3, deriv=True)\n",
    "    l2_error = np.dot(l3_delta, syn2.T)\n",
    "    l2_delta = l2_error * nonlin(l2, deriv=True)\n",
    "    l1_error = np.dot(l2_delta, syn1.T)\n",
    "    l1_delta = l1_error * nonlin(l1, deriv=True)\n",
    "    syn2 += l2.T.dot(l3_delta)\n",
    "    syn1 += l1.T.dot(l2_delta)\n",
    "    syn0 += l0.T.dot(l1_delta)"
   ]
  }
 ],
 "metadata": {
  "kernelspec": {
   "display_name": ".venv",
   "language": "python",
   "name": "python3"
  },
  "language_info": {
   "codemirror_mode": {
    "name": "ipython",
    "version": 3
   },
   "file_extension": ".py",
   "mimetype": "text/x-python",
   "name": "python",
   "nbconvert_exporter": "python",
   "pygments_lexer": "ipython3",
   "version": "3.13.7"
  }
 },
 "nbformat": 4,
 "nbformat_minor": 5
}
