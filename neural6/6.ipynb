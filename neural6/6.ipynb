{
 "cells": [
  {
   "cell_type": "code",
   "execution_count": 1,
   "id": "8d0e6215",
   "metadata": {},
   "outputs": [],
   "source": [
    "import numpy as np\n",
    "from keras.utils import to_categorical\n",
    "from keras.datasets import mnist\n",
    "from keras.models import Sequential\n",
    "from keras.models import model_from_json\n",
    "from keras.layers import Dense, Dropout, Flatten\n",
    "from keras.layers import Conv2D, MaxPooling2D\n",
    "from PIL import Image, ImageEnhance\n",
    "import matplotlib.pyplot as plt"
   ]
  },
  {
   "cell_type": "code",
   "execution_count": 7,
   "id": "38b688a0",
   "metadata": {},
   "outputs": [
    {
     "name": "stdout",
     "output_type": "stream",
     "text": [
      "Epoch 1/10\n",
      "320/320 - 23s - 71ms/step - accuracy: 0.9274 - loss: 0.2290 - val_accuracy: 0.9829 - val_loss: 0.0560\n",
      "Epoch 2/10\n",
      "320/320 - 21s - 65ms/step - accuracy: 0.9809 - loss: 0.0633 - val_accuracy: 0.9843 - val_loss: 0.0504\n",
      "Epoch 3/10\n",
      "320/320 - 21s - 65ms/step - accuracy: 0.9860 - loss: 0.0450 - val_accuracy: 0.9897 - val_loss: 0.0352\n",
      "Epoch 4/10\n",
      "320/320 - 21s - 64ms/step - accuracy: 0.9887 - loss: 0.0351 - val_accuracy: 0.9912 - val_loss: 0.0308\n",
      "Epoch 5/10\n",
      "320/320 - 21s - 65ms/step - accuracy: 0.9900 - loss: 0.0310 - val_accuracy: 0.9914 - val_loss: 0.0302\n",
      "Epoch 6/10\n",
      "320/320 - 21s - 65ms/step - accuracy: 0.9919 - loss: 0.0253 - val_accuracy: 0.9925 - val_loss: 0.0283\n",
      "Epoch 7/10\n",
      "320/320 - 21s - 65ms/step - accuracy: 0.9928 - loss: 0.0215 - val_accuracy: 0.9912 - val_loss: 0.0296\n",
      "Epoch 8/10\n",
      "320/320 - 21s - 65ms/step - accuracy: 0.9937 - loss: 0.0187 - val_accuracy: 0.9916 - val_loss: 0.0280\n",
      "Epoch 9/10\n",
      "320/320 - 21s - 64ms/step - accuracy: 0.9938 - loss: 0.0179 - val_accuracy: 0.9912 - val_loss: 0.0307\n",
      "Epoch 10/10\n",
      "320/320 - 21s - 65ms/step - accuracy: 0.9951 - loss: 0.0148 - val_accuracy: 0.9933 - val_loss: 0.0260\n",
      "Точность работы на тестовых данных: 99.38%\n"
     ]
    }
   ],
   "source": [
    "np.random.seed(42)\n",
    "img_rows, img_cols = 28, 28\n",
    "(X_train, y_train), (X_test, y_test) = mnist.load_data()\n",
    "X_train = X_train.reshape(X_train.shape[0], img_rows, img_cols, 1)\n",
    "X_test = X_test.reshape(X_test.shape[0], img_rows, img_cols, 1)\n",
    "input_shape1 = (img_rows, img_cols, 1)\n",
    "X_train = X_train.astype('float32') / 255.0\n",
    "X_test = X_test.astype('float32') / 255.0\n",
    "Y_train = to_categorical(y_train, 10)\n",
    "Y_test = to_categorical(y_test, 10)\n",
    "model = Sequential()\n",
    "model.add(Conv2D(75, kernel_size=(5, 5), activation='relu', input_shape=input_shape1))\n",
    "model.add(MaxPooling2D(pool_size=(2, 2)))\n",
    "model.add(Dropout(0.2))\n",
    "model.add(Conv2D(100, (5, 5), activation='relu'))\n",
    "model.add(MaxPooling2D(pool_size=(2, 2)))\n",
    "model.add(Dropout(0.2))\n",
    "model.add(Flatten())\n",
    "model.add(Dense(500, activation='relu'))\n",
    "model.add(Dropout(0.5))\n",
    "model.add(Dense(10, activation='softmax'))\n",
    "model.compile(loss=\"categorical_crossentropy\", optimizer=\"adam\", metrics=[\"accuracy\"])\n",
    "model.fit(X_train, Y_train, batch_size=150, epochs=10, validation_split=0.2, verbose=2)\n",
    "scores = model.evaluate(X_test, Y_test, verbose=0)\n",
    "print(\"Точность работы на тестовых данных: %.2f%%\" % (scores[1]*100))\n"
   ]
  },
  {
   "cell_type": "code",
   "execution_count": 8,
   "id": "5577eac6",
   "metadata": {},
   "outputs": [
    {
     "name": "stdout",
     "output_type": "stream",
     "text": [
      "Точность модели на тестовых данных: 99.38%\n"
     ]
    }
   ],
   "source": [
    "model_json = model.to_json()\n",
    "json_file = open(\"mnist_model.json\", \"w\")\n",
    "json_file.write(model_json)\n",
    "json_file.close()\n",
    "model.save_weights(\"mnist_model.weights.h5\")\n",
    "json_file = open(\"mnist_model.json\", \"r\")\n",
    "loaded_model_json = json_file.read()\n",
    "json_file.close()\n",
    "loaded_model = model_from_json(loaded_model_json)\n",
    "loaded_model.load_weights(\"mnist_model.weights.h5\")\n",
    "loaded_model.compile(loss=\"categorical_crossentropy\", optimizer=\"SGD\", metrics=[\"accuracy\"])\n",
    "scores = loaded_model.evaluate(X_test, Y_test, verbose=0)\n",
    "print(\"Точность модели на тестовых данных: %.2f%%\" % (scores[1]*100))"
   ]
  },
  {
   "cell_type": "code",
   "execution_count": 15,
   "id": "0cc5ea77",
   "metadata": {},
   "outputs": [
    {
     "name": "stdout",
     "output_type": "stream",
     "text": [
      "\u001b[1m1/1\u001b[0m \u001b[32m━━━━━━━━━━━━━━━━━━━━\u001b[0m\u001b[37m\u001b[0m \u001b[1m0s\u001b[0m 51ms/step\n",
      "[[4.9504033e-06 3.5078579e-06 2.4669791e-05 5.5213936e-04 2.5455240e-06\n",
      "  8.8559260e-05 5.5221175e-05 4.6879841e-06 9.9926203e-01 1.6239803e-06]]\n",
      "[8]\n"
     ]
    },
    {
     "data": {
      "image/png": "[encoded data removed]",
      "text/plain": [
       "<Figure size 640x480 with 1 Axes>"
      ]
     },
     "metadata": {},
     "output_type": "display_data"
    }
   ],
   "source": [
    "im = Image.open(\"8.png\")\n",
    "im_grey = im.convert('L')\n",
    "im_array = np.array(im_grey)\n",
    "im_array = im_array.reshape(1, img_rows, img_cols, 1)\n",
    "x = 255 - im_array\n",
    "x=x.astype('float32')/255\n",
    "plt.imshow(x.reshape(28,28), cmap='gray')\n",
    "prediction = loaded_model.predict(x)\n",
    "print(prediction)\n",
    "prediction = np.argmax(prediction, axis=1)\n",
    "print(prediction)"
   ]
  },
  {
   "cell_type": "code",
   "execution_count": 16,
   "id": "6730137a",
   "metadata": {},
   "outputs": [
    {
     "name": "stdout",
     "output_type": "stream",
     "text": [
      "\u001b[1m1/1\u001b[0m \u001b[32m━━━━━━━━━━━━━━━━━━━━\u001b[0m\u001b[37m\u001b[0m \u001b[1m0s\u001b[0m 41ms/step\n",
      "[[4.2542195e-04 9.5232868e-01 8.7431008e-03 1.8790182e-02 9.8710682e-04\n",
      "  5.8848537e-03 7.7168932e-03 4.0413211e-03 9.2834875e-04 1.5400433e-04]]\n",
      "[1]\n"
     ]
    },
    {
     "data": {
      "image/png": "[encoded data removed]",
      "text/plain": [
       "<Figure size 640x480 with 1 Axes>"
      ]
     },
     "metadata": {},
     "output_type": "display_data"
    }
   ],
   "source": [
    "im2 = Image.open(\"test.jpg\")\n",
    "enhancer = ImageEnhance.Contrast(im2)\n",
    "im2 = enhancer.enhance(100)\n",
    "im_grey2 = im2.convert('L')\n",
    "im_resized=im_grey2.resize((28,28))\n",
    "im_array2 = np.array(im_resized)\n",
    "im_array2=np.reshape(im_array2, (1, 28,28,1)).astype('float32')\n",
    "x2 = 255 - im_array2\n",
    "x2/=255\n",
    "plt.imshow(x2.reshape(28,28), cmap='gray')\n",
    "prediction2 = loaded_model.predict(x2)\n",
    "print(prediction2)\n",
    "prediction2 = np.argmax(prediction2, axis=1)\n",
    "print(prediction2)"
   ]
  }
 ],
 "metadata": {
  "kernelspec": {
   "display_name": ".venv",
   "language": "python",
   "name": "python3"
  },
  "language_info": {
   "codemirror_mode": {
    "name": "ipython",
    "version": 3
   },
   "file_extension": ".py",
   "mimetype": "text/x-python",
   "name": "python",
   "nbconvert_exporter": "python",
   "pygments_lexer": "ipython3",
   "version": "3.13.7"
  }
 },
 "nbformat": 4,
 "nbformat_minor": 5
}
