{
 "cells": [
  {
   "cell_type": "code",
   "execution_count": 1,
   "id": "76c29557",
   "metadata": {},
   "outputs": [],
   "source": [
    "import numpy as np\n"
   ]
  },
  {
   "cell_type": "code",
   "execution_count": 43,
   "id": "c49e3df9",
   "metadata": {},
   "outputs": [],
   "source": [
    "import math"
   ]
  },
  {
   "cell_type": "code",
   "execution_count": 3,
   "id": "5efe9308",
   "metadata": {},
   "outputs": [
    {
     "name": "stdout",
     "output_type": "stream",
     "text": [
      "3\n"
     ]
    }
   ],
   "source": [
    "a= int(input())\n",
    "b=int(input())\n",
    "c=int(input())\n",
    "arr=np.array((a,b,c))\n",
    "print(arr.max())"
   ]
  },
  {
   "cell_type": "code",
   "execution_count": 16,
   "id": "0ebc7108",
   "metadata": {},
   "outputs": [
    {
     "name": "stdout",
     "output_type": "stream",
     "text": [
      "0\n"
     ]
    }
   ],
   "source": [
    "a= int(input())\n",
    "b=int(input())\n",
    "c=int(input())\n",
    "arr=np.array((a,b,c))\n",
    "if(len(np.unique(arr))==1):\n",
    "    print(3)\n",
    "elif(len(np.unique(arr))==2):\n",
    "    print(2)\n",
    "else:\n",
    "    print(0)"
   ]
  },
  {
   "cell_type": "code",
   "execution_count": 21,
   "id": "6c32dfc3",
   "metadata": {},
   "outputs": [
    {
     "name": "stdout",
     "output_type": "stream",
     "text": [
      "YES\n"
     ]
    }
   ],
   "source": [
    "a= int(input())\n",
    "if(a%100==0):\n",
    "    if(a%400==0):\n",
    "        print('YES')\n",
    "    else:\n",
    "        print('NO')\n",
    "else:\n",
    "    if(a%4==0):\n",
    "        print('YES')\n",
    "    else:\n",
    "        print('NO')"
   ]
  },
  {
   "cell_type": "code",
   "execution_count": 33,
   "id": "f426bdc8",
   "metadata": {},
   "outputs": [
    {
     "name": "stdout",
     "output_type": "stream",
     "text": [
      "YES\n"
     ]
    }
   ],
   "source": [
    "C1= int(input())\n",
    "R1=int(input())\n",
    "C2=int(input())\n",
    "R2=int(input())\n",
    "pos1=np.array((C1,R1))\n",
    "pos2=np.array((C2, R2))\n",
    "if(len((np.where(pos1/pos2==1))[0])==1):\n",
    "    print('YES')\n",
    "else:\n",
    "    print('NO')\n"
   ]
  },
  {
   "cell_type": "code",
   "execution_count": 41,
   "id": "dfd96d94",
   "metadata": {},
   "outputs": [
    {
     "name": "stdout",
     "output_type": "stream",
     "text": [
      "37\n"
     ]
    }
   ],
   "source": [
    "b=int(input())\n",
    "for i in range(2,b+1):\n",
    "   if(b%i==0): \n",
    "       print(i)\n",
    "       break"
   ]
  },
  {
   "cell_type": "code",
   "execution_count": 50,
   "id": "023f93b7",
   "metadata": {},
   "outputs": [
    {
     "name": "stdout",
     "output_type": "stream",
     "text": [
      "7\n"
     ]
    }
   ],
   "source": [
    "x=int(input())\n",
    "y=int(input())\n",
    "tar=y/x\n",
    "if(tar>0):\n",
    "    print(int(np.ceil(math.log(tar, 1.1))+1))\n",
    "else:\n",
    "    print(1)"
   ]
  },
  {
   "cell_type": "code",
   "execution_count": 55,
   "id": "e3b2453e",
   "metadata": {},
   "outputs": [
    {
     "name": "stdout",
     "output_type": "stream",
     "text": [
      "8\n"
     ]
    }
   ],
   "source": [
    "x=float(input())\n",
    "p=float(input())\n",
    "y=float(input())\n",
    "i=0\n",
    "while(x<y):\n",
    "    x=math.floor(x*(p/100+1)*100)/100\n",
    "    i+=1\n",
    "print(i)"
   ]
  },
  {
   "cell_type": "code",
   "execution_count": 83,
   "id": "9f6d7dc9",
   "metadata": {},
   "outputs": [
    {
     "name": "stdout",
     "output_type": "stream",
     "text": [
      "10\n"
     ]
    }
   ],
   "source": [
    "b=0\n",
    "c=1\n",
    "i=2\n",
    "a=int(input())\n",
    "if(a==0):\n",
    "    print(1)\n",
    "elif(a==1):\n",
    "    print(2)\n",
    "else:\n",
    "    while(a>c):\n",
    "        c+=b\n",
    "        b=c-b\n",
    "        i+=1\n",
    "    if(a==c):\n",
    "        print(i)\n",
    "    else:\n",
    "        print(-1)\n",
    "    "
   ]
  },
  {
   "cell_type": "code",
   "execution_count": 183,
   "id": "6e30b741",
   "metadata": {},
   "outputs": [
    {
     "name": "stdout",
     "output_type": "stream",
     "text": [
      "5\n"
     ]
    }
   ],
   "source": [
    "a=int(input())\n",
    "print(a%10)"
   ]
  },
  {
   "cell_type": "code",
   "execution_count": 91,
   "id": "281ebc60",
   "metadata": {},
   "outputs": [
    {
     "name": "stdout",
     "output_type": "stream",
     "text": [
      "0.6779999999999973\n"
     ]
    }
   ],
   "source": [
    "a=float(input())\n",
    "print(math.modf(a)[0])"
   ]
  },
  {
   "cell_type": "code",
   "execution_count": null,
   "id": "3800c1f5",
   "metadata": {},
   "outputs": [
    {
     "name": "stdout",
     "output_type": "stream",
     "text": [
      "6\n"
     ]
    }
   ],
   "source": [
    "a=float(input())\n",
    "print(math.floor(a*10%10))"
   ]
  },
  {
   "cell_type": "code",
   "execution_count": 115,
   "id": "edaf850d",
   "metadata": {},
   "outputs": [
    {
     "name": "stdout",
     "output_type": "stream",
     "text": [
      "3\n"
     ]
    }
   ],
   "source": [
    "a=float(input())\n",
    "if((a-math.ceil(a))>=(math.floor(a)-a)):\n",
    "    print(math.ceil(a))\n",
    "else:\n",
    "    print(math.floor(a))"
   ]
  },
  {
   "cell_type": "markdown",
   "id": "aebf33cf",
   "metadata": {},
   "source": [
    "lab 2.2"
   ]
  },
  {
   "cell_type": "code",
   "execution_count": 120,
   "id": "b8524845",
   "metadata": {},
   "outputs": [
    {
     "data": {
      "text/plain": [
       "4"
      ]
     },
     "execution_count": 120,
     "metadata": {},
     "output_type": "execute_result"
    }
   ],
   "source": [
    "a=str(input())\n",
    "a.count(' ')+1"
   ]
  },
  {
   "cell_type": "code",
   "execution_count": 124,
   "id": "703c7b94",
   "metadata": {},
   "outputs": [
    {
     "name": "stdout",
     "output_type": "stream",
     "text": [
      "second first\n"
     ]
    }
   ],
   "source": [
    "a=str(input())\n",
    "a=str.split(a)\n",
    "b=a[1]+' '+a[0]\n",
    "print(b)"
   ]
  },
  {
   "cell_type": "code",
   "execution_count": null,
   "id": "9f8cf357",
   "metadata": {},
   "outputs": [
    {
     "name": "stdout",
     "output_type": "stream",
     "text": [
      "one23145167\n",
      "one23one45167\n",
      "one23one45one67\n",
      "one23one45one67\n"
     ]
    }
   ],
   "source": [
    "a=str(input())\n",
    "n=len(a)-1\n",
    "i=0\n",
    "while(i<n):\n",
    "    if (a[i]=='1'):\n",
    "        a=a[:i]+'one'+a[i+1:]\n",
    "        n+=2\n",
    "    i+=1\n",
    "print(a)"
   ]
  },
  {
   "cell_type": "code",
   "execution_count": 146,
   "id": "967aeb26",
   "metadata": {},
   "outputs": [
    {
     "name": "stdout",
     "output_type": "stream",
     "text": [
      "0\n",
      "2\n",
      "4\n",
      "6\n",
      "8\n"
     ]
    }
   ],
   "source": [
    "a=[0,1,2,3,4,5,6,7,8,9]\n",
    "for i in range(len(a)):\n",
    "    if(i%2==0):\n",
    "        print(a[i])"
   ]
  },
  {
   "cell_type": "code",
   "execution_count": 147,
   "id": "e42ae693",
   "metadata": {},
   "outputs": [
    {
     "name": "stdout",
     "output_type": "stream",
     "text": [
      "1\n",
      "2\n",
      "3\n",
      "2\n",
      "3\n"
     ]
    }
   ],
   "source": [
    "a=[0,1,2,3,2,1,2,2,3,1]\n",
    "for i in range(1,len(a)):\n",
    "    if(a[i]>a[i-1]):\n",
    "        print(a[i])"
   ]
  },
  {
   "cell_type": "code",
   "execution_count": 154,
   "id": "cbb80e2b",
   "metadata": {},
   "outputs": [
    {
     "name": "stdout",
     "output_type": "stream",
     "text": [
      "3\n",
      "3\n"
     ]
    }
   ],
   "source": [
    "a=[0,1,2,3,2,1,2,2,3,1]\n",
    "for i in range(1,len(a)-1):\n",
    "    if((a[i]>a[i-1])&(a[i]>a[i+1])):\n",
    "        print(a[i])"
   ]
  },
  {
   "cell_type": "code",
   "execution_count": 160,
   "id": "c22c11c2",
   "metadata": {},
   "outputs": [
    {
     "name": "stdout",
     "output_type": "stream",
     "text": [
      "[1 3]\n"
     ]
    }
   ],
   "source": [
    "a=np.array((1,2,3,4,-1,-2,-3,-4))\n",
    "a=a[::2]\n",
    "b=a[a>0]\n",
    "print(b)"
   ]
  },
  {
   "cell_type": "code",
   "execution_count": 171,
   "id": "a6a2115c",
   "metadata": {},
   "outputs": [
    {
     "name": "stdout",
     "output_type": "stream",
     "text": [
      "[1 2 3 4 0 0 0 0]\n"
     ]
    }
   ],
   "source": [
    "a=np.array((1,0,2,0,3,0,4,0))\n",
    "b=a[a!=0]\n",
    "c=a[a==0]\n",
    "print(np.concatenate((b,c)))"
   ]
  },
  {
   "cell_type": "code",
   "execution_count": 184,
   "id": "e87d607d",
   "metadata": {},
   "outputs": [
    {
     "name": "stdout",
     "output_type": "stream",
     "text": [
      "Гласных: 2\n",
      "Согласных: 4\n"
     ]
    }
   ],
   "source": [
    "text = input()\n",
    "\n",
    "vowels = \"аеёиоуыэюяАЕЁИОУЫЭЮЯ\"\n",
    "consonants = \"бвгджзйклмнпрстфхцчшщБВГДЖЗЙКЛМНПрСТФХЦЧШЩ\"\n",
    "\n",
    "vowel_count = 0\n",
    "consonant_count = 0\n",
    "\n",
    "for ch in text:\n",
    "    if ch in vowels:\n",
    "        vowel_count += 1\n",
    "    elif ch in consonants:\n",
    "        consonant_count += 1\n",
    "\n",
    "print(\"Гласных:\", vowel_count)\n",
    "print(\"Согласных:\", consonant_count)\n"
   ]
  },
  {
   "cell_type": "code",
   "execution_count": 176,
   "id": "903bddfe",
   "metadata": {},
   "outputs": [
    {
     "name": "stdout",
     "output_type": "stream",
     "text": [
      "'a': 4\n",
      "'b': 3\n",
      "'c': 2\n",
      "'d': 1\n"
     ]
    }
   ],
   "source": [
    "text = input()\n",
    "\n",
    "freq = {}\n",
    "\n",
    "for ch in text:\n",
    "    if ch.isalpha():\n",
    "        ch = ch.lower()\n",
    "        freq[ch] = freq.get(ch, 0) + 1\n",
    "\n",
    "for letter, count in sorted(freq.items()):\n",
    "    print(f\"'{letter}': {count}\")\n",
    "\n",
    "\n"
   ]
  },
  {
   "cell_type": "code",
   "execution_count": 177,
   "id": "3304106b",
   "metadata": {},
   "outputs": [
    {
     "name": "stdout",
     "output_type": "stream",
     "text": [
      "Aaa.\n",
      "Bbb.\n",
      "Ccc.\n",
      "Ddd.\n"
     ]
    }
   ],
   "source": [
    "text = input()\n",
    "if text.endswith(\".\"):\n",
    "    text = text[:-1]\n",
    "\n",
    "words = text.split()\n",
    "\n",
    "for word in words:\n",
    "    print(word.capitalize() + \".\")\n"
   ]
  },
  {
   "cell_type": "code",
   "execution_count": 178,
   "id": "1c26f9dd",
   "metadata": {},
   "outputs": [
    {
     "name": "stdout",
     "output_type": "stream",
     "text": [
      "3\n"
     ]
    }
   ],
   "source": [
    "text = input()\n",
    "\n",
    "words = text.split()\n",
    "count = 0\n",
    "\n",
    "for word in words:\n",
    "    if len(word) > 0:\n",
    "        first = word[0].lower()\n",
    "        last = word[-1].lower()\n",
    "        if first == last:\n",
    "            count += 1\n",
    "\n",
    "print( count)\n"
   ]
  },
  {
   "cell_type": "code",
   "execution_count": null,
   "id": "e7be8187",
   "metadata": {},
   "outputs": [
    {
     "name": "stdout",
     "output_type": "stream",
     "text": [
      "['Влад' 'В' 'Лера' 'Л' 'Олег' 'О' 'Стас' 'С']\n"
     ]
    }
   ],
   "source": [
    "s = \"Влад один Стас дерево трава Олег Лера\"\n",
    "names = []\n",
    "for word in s.split():\n",
    "    if word[0].isupper():\n",
    "        names.append(word)\n",
    "names.sort()\n",
    "i=0\n",
    "while(i<len(names)):\n",
    "    names.insert(i+1,names[i][0])\n",
    "    i+=2\n",
    "new=np.array(names)\n",
    "print(new)\n"
   ]
  }
 ],
 "metadata": {
  "kernelspec": {
   "display_name": ".venv",
   "language": "python",
   "name": "python3"
  },
  "language_info": {
   "codemirror_mode": {
    "name": "ipython",
    "version": 3
   },
   "file_extension": ".py",
   "mimetype": "text/x-python",
   "name": "python",
   "nbconvert_exporter": "python",
   "pygments_lexer": "ipython3",
   "version": "3.13.7"
  }
 },
 "nbformat": 4,
 "nbformat_minor": 5
}
